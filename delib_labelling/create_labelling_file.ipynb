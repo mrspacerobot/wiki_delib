{
 "cells": [
  {
   "attachments": {},
   "cell_type": "markdown",
   "metadata": {},
   "source": [
    "## Generate labelling csv file"
   ]
  },
  {
   "cell_type": "code",
   "execution_count": 3,
   "metadata": {},
   "outputs": [],
   "source": [
    "import pandas as pd"
   ]
  },
  {
   "cell_type": "code",
   "execution_count": 4,
   "metadata": {},
   "outputs": [],
   "source": [
    "comment_df = pd.read_csv('../data/rfc_comments.csv')\n",
    "# Group the dataframe by project type and rfc_id\n",
    "grouped = comment_df.groupby(['project', 'rfc_id'])\n",
    "\n",
    "# Define a function to remove the first 2 comments per different rfc_id\n",
    "def remove_comments(group):\n",
    "    if len(group) > 2:\n",
    "        return group.iloc[2:]\n",
    "    else:\n",
    "        return pd.DataFrame()\n",
    "\n",
    "# Apply the function to each group and concatenate the results\n",
    "filtered = grouped.apply(remove_comments).reset_index(drop=True)"
   ]
  },
  {
   "cell_type": "code",
   "execution_count": 5,
   "metadata": {},
   "outputs": [],
   "source": [
    "# group the dataframe by class and sample 65 rows from each group\n",
    "df_labelling = filtered.groupby('project').apply(lambda x: x.sample(65)).reset_index(drop=True)"
   ]
  },
  {
   "cell_type": "code",
   "execution_count": 6,
   "metadata": {},
   "outputs": [],
   "source": [
    "# Define a function to generate URLs based on page IDs\n",
    "def get_wikipedia_url(row):\n",
    "    page_id = int(row['page_id'])\n",
    "    project = row['project']\n",
    "    return f'https://{project}.org/wiki?curid={page_id}'\n",
    "\n",
    "# Apply the function to the page_id column and assign the result to a new column\n",
    "df_labelling['page_url'] = df_labelling.apply(get_wikipedia_url, axis = 1)"
   ]
  },
  {
   "cell_type": "code",
   "execution_count": 7,
   "metadata": {},
   "outputs": [],
   "source": [
    "# Create a list of strings to add as new columns\n",
    "new_cols = [ 'disrespect','respect','explanation','causal_reasoning','narrative', 'question', 'response', 'advocacy', 'public_interest','counterarguments', 'constructive_proposal']\n",
    "\n",
    "# Add the new columns to the DataFrame\n",
    "for col in new_cols:\n",
    "    df_labelling[col] = ''"
   ]
  },
  {
   "cell_type": "code",
   "execution_count": 8,
   "metadata": {},
   "outputs": [],
   "source": [
    "df_labelling = df_labelling.drop([\"date\",\"section\",\"page_id\", \"rfc_id\", \"parent_id\", \"language\"], axis=1)"
   ]
  },
  {
   "cell_type": "code",
   "execution_count": 10,
   "metadata": {},
   "outputs": [],
   "source": [
    "df_labelling = pd.read_csv('label_rfc_statements.csv')\n",
    "df_labelling['id'] = df_labelling['id'].astype(int)"
   ]
  },
  {
   "cell_type": "code",
   "execution_count": 11,
   "metadata": {},
   "outputs": [
    {
     "name": "stdout",
     "output_type": "stream",
     "text": [
      "\n",
      "CSV String:\n",
      " None\n"
     ]
    }
   ],
   "source": [
    "# saving the DataFrame as a CSV file\n",
    "gfg_csv_data = df_labelling.to_csv('label_rfc_statements.csv', index = False)\n",
    "print('\\nCSV String:\\n', gfg_csv_data)"
   ]
  },
  {
   "cell_type": "code",
   "execution_count": 26,
   "metadata": {},
   "outputs": [],
   "source": [
    "df_comments = pd.read_csv('../data/rfc_comments.csv')"
   ]
  },
  {
   "cell_type": "code",
   "execution_count": 13,
   "metadata": {},
   "outputs": [
    {
     "data": {
      "text/html": [
       "<div>\n",
       "<style scoped>\n",
       "    .dataframe tbody tr th:only-of-type {\n",
       "        vertical-align: middle;\n",
       "    }\n",
       "\n",
       "    .dataframe tbody tr th {\n",
       "        vertical-align: top;\n",
       "    }\n",
       "\n",
       "    .dataframe thead th {\n",
       "        text-align: right;\n",
       "    }\n",
       "</style>\n",
       "<table border=\"1\" class=\"dataframe\">\n",
       "  <thead>\n",
       "    <tr style=\"text-align: right;\">\n",
       "      <th></th>\n",
       "      <th>date</th>\n",
       "      <th>id</th>\n",
       "      <th>parent_id</th>\n",
       "      <th>section</th>\n",
       "      <th>text</th>\n",
       "      <th>user</th>\n",
       "      <th>project</th>\n",
       "      <th>rfc_id</th>\n",
       "      <th>page_title</th>\n",
       "      <th>page_id</th>\n",
       "      <th>language</th>\n",
       "    </tr>\n",
       "  </thead>\n",
       "  <tbody>\n",
       "    <tr>\n",
       "      <th>0</th>\n",
       "      <td>2020-10-06T13:22:00Z</td>\n",
       "      <td>0</td>\n",
       "      <td>0</td>\n",
       "      <td>NaN</td>\n",
       "      <td>There is a disagreement regarding the defintio...</td>\n",
       "      <td>Robynthehode</td>\n",
       "      <td>wikipedia</td>\n",
       "      <td>0</td>\n",
       "      <td>Talk:Skyscraper</td>\n",
       "      <td>29488</td>\n",
       "      <td>en</td>\n",
       "    </tr>\n",
       "    <tr>\n",
       "      <th>1</th>\n",
       "      <td>2020-10-07T06:22:00Z</td>\n",
       "      <td>1</td>\n",
       "      <td>0</td>\n",
       "      <td>==Summary of discussion==</td>\n",
       "      <td>The main contention is whether to include a si...</td>\n",
       "      <td>Robynthehode</td>\n",
       "      <td>wikipedia</td>\n",
       "      <td>0</td>\n",
       "      <td>Talk:Skyscraper</td>\n",
       "      <td>29488</td>\n",
       "      <td>en</td>\n",
       "    </tr>\n",
       "    <tr>\n",
       "      <th>2</th>\n",
       "      <td>2020-10-06T16:03:00Z</td>\n",
       "      <td>2</td>\n",
       "      <td>1</td>\n",
       "      <td>==Summary of discussion==</td>\n",
       "      <td>It is not our purpose to define a term, but to...</td>\n",
       "      <td>Redrose64</td>\n",
       "      <td>wikipedia</td>\n",
       "      <td>0</td>\n",
       "      <td>Talk:Skyscraper</td>\n",
       "      <td>29488</td>\n",
       "      <td>en</td>\n",
       "    </tr>\n",
       "    <tr>\n",
       "      <th>3</th>\n",
       "      <td>2020-10-06T16:27:00Z</td>\n",
       "      <td>3</td>\n",
       "      <td>2</td>\n",
       "      <td>==Summary of discussion==</td>\n",
       "      <td>Thanks for your response. All the editors cont...</td>\n",
       "      <td>Robynthehode</td>\n",
       "      <td>wikipedia</td>\n",
       "      <td>0</td>\n",
       "      <td>Talk:Skyscraper</td>\n",
       "      <td>29488</td>\n",
       "      <td>en</td>\n",
       "    </tr>\n",
       "    <tr>\n",
       "      <th>4</th>\n",
       "      <td>2020-10-06T18:15:00Z</td>\n",
       "      <td>4</td>\n",
       "      <td>3</td>\n",
       "      <td>==Summary of discussion==</td>\n",
       "      <td>What, all 32,000+ characters (excluding sigs a...</td>\n",
       "      <td>Redrose64</td>\n",
       "      <td>wikipedia</td>\n",
       "      <td>0</td>\n",
       "      <td>Talk:Skyscraper</td>\n",
       "      <td>29488</td>\n",
       "      <td>en</td>\n",
       "    </tr>\n",
       "  </tbody>\n",
       "</table>\n",
       "</div>"
      ],
      "text/plain": [
       "                   date  id  parent_id                    section  \\\n",
       "0  2020-10-06T13:22:00Z   0          0                        NaN   \n",
       "1  2020-10-07T06:22:00Z   1          0  ==Summary of discussion==   \n",
       "2  2020-10-06T16:03:00Z   2          1  ==Summary of discussion==   \n",
       "3  2020-10-06T16:27:00Z   3          2  ==Summary of discussion==   \n",
       "4  2020-10-06T18:15:00Z   4          3  ==Summary of discussion==   \n",
       "\n",
       "                                                text          user    project  \\\n",
       "0  There is a disagreement regarding the defintio...  Robynthehode  wikipedia   \n",
       "1  The main contention is whether to include a si...  Robynthehode  wikipedia   \n",
       "2  It is not our purpose to define a term, but to...     Redrose64  wikipedia   \n",
       "3  Thanks for your response. All the editors cont...  Robynthehode  wikipedia   \n",
       "4  What, all 32,000+ characters (excluding sigs a...     Redrose64  wikipedia   \n",
       "\n",
       "   rfc_id       page_title  page_id language  \n",
       "0       0  Talk:Skyscraper    29488       en  \n",
       "1       0  Talk:Skyscraper    29488       en  \n",
       "2       0  Talk:Skyscraper    29488       en  \n",
       "3       0  Talk:Skyscraper    29488       en  \n",
       "4       0  Talk:Skyscraper    29488       en  "
      ]
     },
     "execution_count": 13,
     "metadata": {},
     "output_type": "execute_result"
    }
   ],
   "source": [
    "df_comments.head()"
   ]
  },
  {
   "cell_type": "code",
   "execution_count": 27,
   "metadata": {},
   "outputs": [],
   "source": [
    "# sort the dataframe based on id and parent_id\n",
    "df_out = df_comments.sort_values(['id', 'parent_id'])"
   ]
  },
  {
   "cell_type": "code",
   "execution_count": 28,
   "metadata": {},
   "outputs": [],
   "source": [
    "df_out = df_out.drop([\"date\",\"section\",\"page_id\", \"id\", \"rfc_id\", \"parent_id\", \"language\", \"project\", \"page_title\"], axis=1)"
   ]
  },
  {
   "cell_type": "code",
   "execution_count": 20,
   "metadata": {},
   "outputs": [
    {
     "data": {
      "text/html": [
       "<div>\n",
       "<style scoped>\n",
       "    .dataframe tbody tr th:only-of-type {\n",
       "        vertical-align: middle;\n",
       "    }\n",
       "\n",
       "    .dataframe tbody tr th {\n",
       "        vertical-align: top;\n",
       "    }\n",
       "\n",
       "    .dataframe thead th {\n",
       "        text-align: right;\n",
       "    }\n",
       "</style>\n",
       "<table border=\"1\" class=\"dataframe\">\n",
       "  <thead>\n",
       "    <tr style=\"text-align: right;\">\n",
       "      <th></th>\n",
       "      <th>text</th>\n",
       "      <th>user</th>\n",
       "    </tr>\n",
       "  </thead>\n",
       "  <tbody>\n",
       "    <tr>\n",
       "      <th>0</th>\n",
       "      <td>There is a disagreement regarding the defintio...</td>\n",
       "      <td>Robynthehode</td>\n",
       "    </tr>\n",
       "    <tr>\n",
       "      <th>1</th>\n",
       "      <td>The main contention is whether to include a si...</td>\n",
       "      <td>Robynthehode</td>\n",
       "    </tr>\n",
       "    <tr>\n",
       "      <th>2</th>\n",
       "      <td>It is not our purpose to define a term, but to...</td>\n",
       "      <td>Redrose64</td>\n",
       "    </tr>\n",
       "    <tr>\n",
       "      <th>3</th>\n",
       "      <td>Thanks for your response. All the editors cont...</td>\n",
       "      <td>Robynthehode</td>\n",
       "    </tr>\n",
       "    <tr>\n",
       "      <th>4</th>\n",
       "      <td>What, all 32,000+ characters (excluding sigs a...</td>\n",
       "      <td>Redrose64</td>\n",
       "    </tr>\n",
       "  </tbody>\n",
       "</table>\n",
       "</div>"
      ],
      "text/plain": [
       "                                                text          user\n",
       "0  There is a disagreement regarding the defintio...  Robynthehode\n",
       "1  The main contention is whether to include a si...  Robynthehode\n",
       "2  It is not our purpose to define a term, but to...     Redrose64\n",
       "3  Thanks for your response. All the editors cont...  Robynthehode\n",
       "4  What, all 32,000+ characters (excluding sigs a...     Redrose64"
      ]
     },
     "execution_count": 20,
     "metadata": {},
     "output_type": "execute_result"
    }
   ],
   "source": [
    "df_out.head()"
   ]
  },
  {
   "cell_type": "code",
   "execution_count": 29,
   "metadata": {},
   "outputs": [],
   "source": [
    "df_out = df_out[['user','text']]"
   ]
  },
  {
   "cell_type": "code",
   "execution_count": 30,
   "metadata": {},
   "outputs": [],
   "source": [
    "# change the name of the 'old_name' column to 'new_name'\n",
    "df_out = df_out.rename(columns={'user': 'speaker'})\n",
    "df_out = df_out.rename(columns={'text': 'speech'})"
   ]
  },
  {
   "cell_type": "code",
   "execution_count": 31,
   "metadata": {},
   "outputs": [
    {
     "data": {
      "text/html": [
       "<div>\n",
       "<style scoped>\n",
       "    .dataframe tbody tr th:only-of-type {\n",
       "        vertical-align: middle;\n",
       "    }\n",
       "\n",
       "    .dataframe tbody tr th {\n",
       "        vertical-align: top;\n",
       "    }\n",
       "\n",
       "    .dataframe thead th {\n",
       "        text-align: right;\n",
       "    }\n",
       "</style>\n",
       "<table border=\"1\" class=\"dataframe\">\n",
       "  <thead>\n",
       "    <tr style=\"text-align: right;\">\n",
       "      <th></th>\n",
       "      <th>speaker</th>\n",
       "      <th>speech</th>\n",
       "    </tr>\n",
       "  </thead>\n",
       "  <tbody>\n",
       "    <tr>\n",
       "      <th>0</th>\n",
       "      <td>Robynthehode</td>\n",
       "      <td>There is a disagreement regarding the defintio...</td>\n",
       "    </tr>\n",
       "    <tr>\n",
       "      <th>1</th>\n",
       "      <td>Robynthehode</td>\n",
       "      <td>The main contention is whether to include a si...</td>\n",
       "    </tr>\n",
       "    <tr>\n",
       "      <th>2</th>\n",
       "      <td>Redrose64</td>\n",
       "      <td>It is not our purpose to define a term, but to...</td>\n",
       "    </tr>\n",
       "    <tr>\n",
       "      <th>3</th>\n",
       "      <td>Robynthehode</td>\n",
       "      <td>Thanks for your response. All the editors cont...</td>\n",
       "    </tr>\n",
       "    <tr>\n",
       "      <th>4</th>\n",
       "      <td>Redrose64</td>\n",
       "      <td>What, all 32,000+ characters (excluding sigs a...</td>\n",
       "    </tr>\n",
       "  </tbody>\n",
       "</table>\n",
       "</div>"
      ],
      "text/plain": [
       "        speaker                                             speech\n",
       "0  Robynthehode  There is a disagreement regarding the defintio...\n",
       "1  Robynthehode  The main contention is whether to include a si...\n",
       "2     Redrose64  It is not our purpose to define a term, but to...\n",
       "3  Robynthehode  Thanks for your response. All the editors cont...\n",
       "4     Redrose64  What, all 32,000+ characters (excluding sigs a..."
      ]
     },
     "execution_count": 31,
     "metadata": {},
     "output_type": "execute_result"
    }
   ],
   "source": [
    "df_out.head()"
   ]
  },
  {
   "cell_type": "code",
   "execution_count": 32,
   "metadata": {},
   "outputs": [
    {
     "name": "stdout",
     "output_type": "stream",
     "text": [
      "\n",
      "CSV String:\n",
      " None\n"
     ]
    }
   ],
   "source": [
    "# saving the DataFrame as a CSV file\n",
    "gfg_csv_data = df_out.to_csv('rfc_statements.csv', index = False)\n",
    "print('\\nCSV String:\\n', gfg_csv_data)"
   ]
  },
  {
   "cell_type": "code",
   "execution_count": 4,
   "metadata": {},
   "outputs": [],
   "source": [
    "delib_df = pd.read_csv('../data/rfc_statements_delibanalysis.csv')"
   ]
  },
  {
   "cell_type": "code",
   "execution_count": 5,
   "metadata": {},
   "outputs": [],
   "source": [
    "delib_df = delib_df.drop('between_2000_and_3000_chars', axis=1)\n",
    "delib_df = delib_df.drop('between_1000_and_2000_chars', axis=1)\n",
    "delib_df = delib_df.drop('between_3000_and_4000_chars', axis=1)\n",
    "delib_df = delib_df.drop('more_than_4000_chars', axis=1)\n",
    "delib_df = delib_df.drop('less_than_1000_chars', axis=1)\n",
    "delib_df = delib_df.drop('respect', axis=1)\n",
    "delib_df = delib_df.drop('cleaned_comment', axis=1)"
   ]
  },
  {
   "cell_type": "code",
   "execution_count": 37,
   "metadata": {},
   "outputs": [
    {
     "data": {
      "text/html": [
       "<div>\n",
       "<style scoped>\n",
       "    .dataframe tbody tr th:only-of-type {\n",
       "        vertical-align: middle;\n",
       "    }\n",
       "\n",
       "    .dataframe tbody tr th {\n",
       "        vertical-align: top;\n",
       "    }\n",
       "\n",
       "    .dataframe thead th {\n",
       "        text-align: right;\n",
       "    }\n",
       "</style>\n",
       "<table border=\"1\" class=\"dataframe\">\n",
       "  <thead>\n",
       "    <tr style=\"text-align: right;\">\n",
       "      <th></th>\n",
       "      <th>speaker</th>\n",
       "      <th>speech</th>\n",
       "      <th>char_count</th>\n",
       "      <th>has_respect</th>\n",
       "      <th>has_question</th>\n",
       "      <th>has_question_parent</th>\n",
       "      <th>gender</th>\n",
       "      <th>pos</th>\n",
       "      <th>narrative</th>\n",
       "      <th>question</th>\n",
       "      <th>response</th>\n",
       "      <th>advocacy</th>\n",
       "      <th>public_interest</th>\n",
       "      <th>disrespect</th>\n",
       "      <th>explanation</th>\n",
       "      <th>causal_reasoning</th>\n",
       "      <th>counterarguments</th>\n",
       "      <th>constructive_proposal</th>\n",
       "    </tr>\n",
       "  </thead>\n",
       "  <tbody>\n",
       "    <tr>\n",
       "      <th>0</th>\n",
       "      <td>Robynthehode</td>\n",
       "      <td>There is a disagreement regarding the defintio...</td>\n",
       "      <td>409</td>\n",
       "      <td>0</td>\n",
       "      <td>0</td>\n",
       "      <td>0</td>\n",
       "      <td>M</td>\n",
       "      <td>EX VBZ DT NN VBG DT NN IN DT NN NN RB DT NN NN...</td>\n",
       "      <td>0.0</td>\n",
       "      <td>0</td>\n",
       "      <td>0.0</td>\n",
       "      <td>1.0</td>\n",
       "      <td>0.0</td>\n",
       "      <td>0</td>\n",
       "      <td>0.0</td>\n",
       "      <td>0.0</td>\n",
       "      <td>0.0</td>\n",
       "      <td>0.0</td>\n",
       "    </tr>\n",
       "    <tr>\n",
       "      <th>1</th>\n",
       "      <td>Robynthehode</td>\n",
       "      <td>The main contention is whether to include a si...</td>\n",
       "      <td>571</td>\n",
       "      <td>0</td>\n",
       "      <td>0</td>\n",
       "      <td>0</td>\n",
       "      <td>M</td>\n",
       "      <td>DT JJ NN VBZ IN TO VB DT JJ NN CC RB NN NN NN ...</td>\n",
       "      <td>0.0</td>\n",
       "      <td>0</td>\n",
       "      <td>1.0</td>\n",
       "      <td>1.0</td>\n",
       "      <td>0.0</td>\n",
       "      <td>0</td>\n",
       "      <td>0.0</td>\n",
       "      <td>1.0</td>\n",
       "      <td>0.0</td>\n",
       "      <td>1.0</td>\n",
       "    </tr>\n",
       "    <tr>\n",
       "      <th>2</th>\n",
       "      <td>Redrose64</td>\n",
       "      <td>It is not our purpose to define a term, but to...</td>\n",
       "      <td>630</td>\n",
       "      <td>0</td>\n",
       "      <td>0</td>\n",
       "      <td>0</td>\n",
       "      <td>M</td>\n",
       "      <td>PRP VBZ RB PRP$ NN TO VB DT NN CC TO VB IN WRB...</td>\n",
       "      <td>0.0</td>\n",
       "      <td>0</td>\n",
       "      <td>0.0</td>\n",
       "      <td>1.0</td>\n",
       "      <td>0.0</td>\n",
       "      <td>0</td>\n",
       "      <td>0.0</td>\n",
       "      <td>1.0</td>\n",
       "      <td>0.0</td>\n",
       "      <td>1.0</td>\n",
       "    </tr>\n",
       "    <tr>\n",
       "      <th>3</th>\n",
       "      <td>Robynthehode</td>\n",
       "      <td>Thanks for your response. All the editors cont...</td>\n",
       "      <td>315</td>\n",
       "      <td>1</td>\n",
       "      <td>0</td>\n",
       "      <td>0</td>\n",
       "      <td>M</td>\n",
       "      <td>NNS IN PRP$ NN PDT DT NNS VBG RB RB VBP IN JJ ...</td>\n",
       "      <td>0.0</td>\n",
       "      <td>0</td>\n",
       "      <td>0.0</td>\n",
       "      <td>0.0</td>\n",
       "      <td>0.0</td>\n",
       "      <td>0</td>\n",
       "      <td>0.0</td>\n",
       "      <td>0.0</td>\n",
       "      <td>0.0</td>\n",
       "      <td>0.0</td>\n",
       "    </tr>\n",
       "    <tr>\n",
       "      <th>4</th>\n",
       "      <td>Redrose64</td>\n",
       "      <td>What, all 32,000+ characters (excluding sigs a...</td>\n",
       "      <td>236</td>\n",
       "      <td>0</td>\n",
       "      <td>1</td>\n",
       "      <td>0</td>\n",
       "      <td>M</td>\n",
       "      <td>WP DT NNS VBG NNS CC VB NN IN NN NN DT NN NN I...</td>\n",
       "      <td>0.0</td>\n",
       "      <td>1</td>\n",
       "      <td>1.0</td>\n",
       "      <td>0.0</td>\n",
       "      <td>0.0</td>\n",
       "      <td>0</td>\n",
       "      <td>1.0</td>\n",
       "      <td>0.0</td>\n",
       "      <td>0.0</td>\n",
       "      <td>1.0</td>\n",
       "    </tr>\n",
       "  </tbody>\n",
       "</table>\n",
       "</div>"
      ],
      "text/plain": [
       "        speaker                                             speech  \\\n",
       "0  Robynthehode  There is a disagreement regarding the defintio...   \n",
       "1  Robynthehode  The main contention is whether to include a si...   \n",
       "2     Redrose64  It is not our purpose to define a term, but to...   \n",
       "3  Robynthehode  Thanks for your response. All the editors cont...   \n",
       "4     Redrose64  What, all 32,000+ characters (excluding sigs a...   \n",
       "\n",
       "   char_count  has_respect  has_question  has_question_parent gender  \\\n",
       "0         409            0             0                    0      M   \n",
       "1         571            0             0                    0      M   \n",
       "2         630            0             0                    0      M   \n",
       "3         315            1             0                    0      M   \n",
       "4         236            0             1                    0      M   \n",
       "\n",
       "                                                 pos  narrative  question  \\\n",
       "0  EX VBZ DT NN VBG DT NN IN DT NN NN RB DT NN NN...        0.0         0   \n",
       "1  DT JJ NN VBZ IN TO VB DT JJ NN CC RB NN NN NN ...        0.0         0   \n",
       "2  PRP VBZ RB PRP$ NN TO VB DT NN CC TO VB IN WRB...        0.0         0   \n",
       "3  NNS IN PRP$ NN PDT DT NNS VBG RB RB VBP IN JJ ...        0.0         0   \n",
       "4  WP DT NNS VBG NNS CC VB NN IN NN NN DT NN NN I...        0.0         1   \n",
       "\n",
       "   response  advocacy  public_interest  disrespect  explanation  \\\n",
       "0       0.0       1.0              0.0           0          0.0   \n",
       "1       1.0       1.0              0.0           0          0.0   \n",
       "2       0.0       1.0              0.0           0          0.0   \n",
       "3       0.0       0.0              0.0           0          0.0   \n",
       "4       1.0       0.0              0.0           0          1.0   \n",
       "\n",
       "   causal_reasoning  counterarguments  constructive_proposal  \n",
       "0               0.0               0.0                    0.0  \n",
       "1               1.0               0.0                    1.0  \n",
       "2               1.0               0.0                    1.0  \n",
       "3               0.0               0.0                    0.0  \n",
       "4               0.0               0.0                    1.0  "
      ]
     },
     "execution_count": 37,
     "metadata": {},
     "output_type": "execute_result"
    }
   ],
   "source": [
    "delib_df.head()"
   ]
  },
  {
   "cell_type": "code",
   "execution_count": 6,
   "metadata": {},
   "outputs": [],
   "source": [
    "df_comments = pd.read_csv('../data/rfc_comments.csv')\n",
    "# sort the dataframe based on id and parent_id\n",
    "df_out = df_comments.sort_values(['id', 'parent_id'])"
   ]
  },
  {
   "cell_type": "code",
   "execution_count": 7,
   "metadata": {},
   "outputs": [],
   "source": [
    "df3 = pd.merge(delib_df, df_out, left_index=True, right_index=True)"
   ]
  },
  {
   "cell_type": "code",
   "execution_count": 8,
   "metadata": {},
   "outputs": [],
   "source": [
    "df3 = df3.drop('pos', axis=1)\n",
    "df3 = df3.drop('language', axis=1)"
   ]
  },
  {
   "cell_type": "code",
   "execution_count": 9,
   "metadata": {},
   "outputs": [],
   "source": [
    "df3 = df3.drop('speech', axis=1)"
   ]
  },
  {
   "cell_type": "code",
   "execution_count": 10,
   "metadata": {},
   "outputs": [
    {
     "name": "stdout",
     "output_type": "stream",
     "text": [
      "\n",
      "CSV String:\n",
      " None\n"
     ]
    }
   ],
   "source": [
    "gfg_csv_data = df3.to_csv('final_rfc_statements.csv', index = False)\n",
    "print('\\nCSV String:\\n', gfg_csv_data)"
   ]
  }
 ],
 "metadata": {
  "kernelspec": {
   "display_name": "test_env",
   "language": "python",
   "name": "python3"
  },
  "language_info": {
   "codemirror_mode": {
    "name": "ipython",
    "version": 3
   },
   "file_extension": ".py",
   "mimetype": "text/x-python",
   "name": "python",
   "nbconvert_exporter": "python",
   "pygments_lexer": "ipython3",
   "version": "3.9.16"
  },
  "orig_nbformat": 4
 },
 "nbformat": 4,
 "nbformat_minor": 2
}
