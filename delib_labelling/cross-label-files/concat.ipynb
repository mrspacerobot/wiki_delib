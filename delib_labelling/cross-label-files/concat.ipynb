{
 "cells": [
  {
   "cell_type": "code",
   "execution_count": 15,
   "metadata": {},
   "outputs": [],
   "source": [
    "import pandas as pd"
   ]
  },
  {
   "cell_type": "code",
   "execution_count": 16,
   "metadata": {},
   "outputs": [],
   "source": [
    "label2_df = pd.read_excel('label_rfc_statements_version_10032023.xlsx')"
   ]
  },
  {
   "cell_type": "code",
   "execution_count": 17,
   "metadata": {},
   "outputs": [],
   "source": [
    "label2_df = label2_df.drop(['user','page_title','page_url','id'],axis=1)"
   ]
  },
  {
   "cell_type": "code",
   "execution_count": 18,
   "metadata": {},
   "outputs": [],
   "source": [
    "label2_df = label2_df.dropna()"
   ]
  },
  {
   "cell_type": "code",
   "execution_count": 19,
   "metadata": {},
   "outputs": [
    {
     "name": "stdout",
     "output_type": "stream",
     "text": [
      "project\n",
      "meta.wikimedia    70\n",
      "wikidata          64\n",
      "wikipedia         67\n",
      "Name: text, dtype: int64\n"
     ]
    }
   ],
   "source": [
    "print(label2_df.groupby('project').count()['text'])"
   ]
  },
  {
   "cell_type": "code",
   "execution_count": 6,
   "metadata": {},
   "outputs": [],
   "source": [
    "label2_df['project'], label2_df['text'] = label2_df['text'], label2_df['project']"
   ]
  },
  {
   "cell_type": "code",
   "execution_count": 7,
   "metadata": {},
   "outputs": [],
   "source": [
    "label2_df.rename(columns = {'text':'speaker'}, inplace = True)\n",
    "label2_df.rename(columns = {'project':'comment'}, inplace = True)"
   ]
  },
  {
   "cell_type": "code",
   "execution_count": 8,
   "metadata": {},
   "outputs": [
    {
     "data": {
      "text/html": [
       "<div>\n",
       "<style scoped>\n",
       "    .dataframe tbody tr th:only-of-type {\n",
       "        vertical-align: middle;\n",
       "    }\n",
       "\n",
       "    .dataframe tbody tr th {\n",
       "        vertical-align: top;\n",
       "    }\n",
       "\n",
       "    .dataframe thead th {\n",
       "        text-align: right;\n",
       "    }\n",
       "</style>\n",
       "<table border=\"1\" class=\"dataframe\">\n",
       "  <thead>\n",
       "    <tr style=\"text-align: right;\">\n",
       "      <th></th>\n",
       "      <th>speaker</th>\n",
       "      <th>comment</th>\n",
       "      <th>disrespect</th>\n",
       "      <th>respect</th>\n",
       "      <th>explanation</th>\n",
       "      <th>causal_reasoning</th>\n",
       "      <th>narrative</th>\n",
       "      <th>question</th>\n",
       "      <th>response</th>\n",
       "      <th>advocacy</th>\n",
       "      <th>public_interest</th>\n",
       "      <th>counterarguments</th>\n",
       "      <th>constructive_proposal</th>\n",
       "    </tr>\n",
       "  </thead>\n",
       "  <tbody>\n",
       "    <tr>\n",
       "      <th>65</th>\n",
       "      <td>wikidata</td>\n",
       "      <td>*This proposed #4 is a very good replacement o...</td>\n",
       "      <td>0.0</td>\n",
       "      <td>1.0</td>\n",
       "      <td>1.0</td>\n",
       "      <td>1.0</td>\n",
       "      <td>0.0</td>\n",
       "      <td>0.0</td>\n",
       "      <td>0.0</td>\n",
       "      <td>1.0</td>\n",
       "      <td>0.0</td>\n",
       "      <td>1.0</td>\n",
       "      <td>0.0</td>\n",
       "    </tr>\n",
       "    <tr>\n",
       "      <th>66</th>\n",
       "      <td>wikidata</td>\n",
       "      <td>[[User:Micru|Micru]], could you please summari...</td>\n",
       "      <td>0.0</td>\n",
       "      <td>0.0</td>\n",
       "      <td>1.0</td>\n",
       "      <td>0.0</td>\n",
       "      <td>0.0</td>\n",
       "      <td>1.0</td>\n",
       "      <td>0.0</td>\n",
       "      <td>1.0</td>\n",
       "      <td>0.0</td>\n",
       "      <td>0.0</td>\n",
       "      <td>1.0</td>\n",
       "    </tr>\n",
       "    <tr>\n",
       "      <th>68</th>\n",
       "      <td>wikidata</td>\n",
       "      <td>Just a note that I would support a property cr...</td>\n",
       "      <td>0.0</td>\n",
       "      <td>0.0</td>\n",
       "      <td>1.0</td>\n",
       "      <td>1.0</td>\n",
       "      <td>0.0</td>\n",
       "      <td>0.0</td>\n",
       "      <td>0.0</td>\n",
       "      <td>1.0</td>\n",
       "      <td>0.0</td>\n",
       "      <td>0.0</td>\n",
       "      <td>1.0</td>\n",
       "    </tr>\n",
       "    <tr>\n",
       "      <th>69</th>\n",
       "      <td>wikidata</td>\n",
       "      <td>Â Oppose Not well described.</td>\n",
       "      <td>0.0</td>\n",
       "      <td>0.0</td>\n",
       "      <td>0.0</td>\n",
       "      <td>0.0</td>\n",
       "      <td>0.0</td>\n",
       "      <td>0.0</td>\n",
       "      <td>0.0</td>\n",
       "      <td>0.0</td>\n",
       "      <td>0.0</td>\n",
       "      <td>0.0</td>\n",
       "      <td>0.0</td>\n",
       "    </tr>\n",
       "    <tr>\n",
       "      <th>70</th>\n",
       "      <td>wikidata</td>\n",
       "      <td>Â Support -- Although we have permanent admins...</td>\n",
       "      <td>0.0</td>\n",
       "      <td>0.0</td>\n",
       "      <td>1.0</td>\n",
       "      <td>1.0</td>\n",
       "      <td>0.0</td>\n",
       "      <td>0.0</td>\n",
       "      <td>0.0</td>\n",
       "      <td>1.0</td>\n",
       "      <td>0.0</td>\n",
       "      <td>0.0</td>\n",
       "      <td>0.0</td>\n",
       "    </tr>\n",
       "  </tbody>\n",
       "</table>\n",
       "</div>"
      ],
      "text/plain": [
       "     speaker                                            comment  disrespect  \\\n",
       "65  wikidata  *This proposed #4 is a very good replacement o...         0.0   \n",
       "66  wikidata  [[User:Micru|Micru]], could you please summari...         0.0   \n",
       "68  wikidata  Just a note that I would support a property cr...         0.0   \n",
       "69  wikidata                       Â Oppose Not well described.         0.0   \n",
       "70  wikidata  Â Support -- Although we have permanent admins...         0.0   \n",
       "\n",
       "    respect  explanation  causal_reasoning  narrative  question  response  \\\n",
       "65      1.0          1.0               1.0        0.0       0.0       0.0   \n",
       "66      0.0          1.0               0.0        0.0       1.0       0.0   \n",
       "68      0.0          1.0               1.0        0.0       0.0       0.0   \n",
       "69      0.0          0.0               0.0        0.0       0.0       0.0   \n",
       "70      0.0          1.0               1.0        0.0       0.0       0.0   \n",
       "\n",
       "    advocacy  public_interest  counterarguments  constructive_proposal  \n",
       "65       1.0              0.0               1.0                    0.0  \n",
       "66       1.0              0.0               0.0                    1.0  \n",
       "68       1.0              0.0               0.0                    1.0  \n",
       "69       0.0              0.0               0.0                    0.0  \n",
       "70       1.0              0.0               0.0                    0.0  "
      ]
     },
     "execution_count": 8,
     "metadata": {},
     "output_type": "execute_result"
    }
   ],
   "source": [
    "label2_df.head()"
   ]
  },
  {
   "cell_type": "code",
   "execution_count": 9,
   "metadata": {},
   "outputs": [
    {
     "name": "stdout",
     "output_type": "stream",
     "text": [
      "\n",
      "CSV String:\n",
      " None\n"
     ]
    }
   ],
   "source": [
    "gfg_csv_data = label2_df.to_csv('labelled.csv', index = False)\n",
    "print('\\nCSV String:\\n', gfg_csv_data)"
   ]
  }
 ],
 "metadata": {
  "kernelspec": {
   "display_name": "test_env",
   "language": "python",
   "name": "python3"
  },
  "language_info": {
   "name": "python",
   "version": "3.9.16"
  },
  "orig_nbformat": 4
 },
 "nbformat": 4,
 "nbformat_minor": 2
}
