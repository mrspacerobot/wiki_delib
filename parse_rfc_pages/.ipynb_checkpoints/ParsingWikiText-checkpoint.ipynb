{
 "cells": [
  {
   "cell_type": "code",
   "execution_count": null,
   "id": "16196238-4ab0-433f-9699-218d3d879bf7",
   "metadata": {},
   "outputs": [],
   "source": [
    "#using GRAWITAS Parser compiled on linux 18.04 https://github.com/bencabrera/grawitas\n",
    "import json\n",
    "import os\n",
    "inputText = 'rfc.txt'\n",
    "outputText = 'comment_list_file.json'\n",
    "gravitasParseCommand = f'../grawitas/bin/grawitas_cli_core --input-talk-page-file {inputText} --comment-list-json {outputText}'\n",
    "with open('wikipedia.json') as json_file:\n",
    "    rfc_list = json.load(json_file)\n",
    "for rfc in rfc_list:\n",
    "    rfc['page_text'] = rfc['page_text'].replace('(UTC)\\n}}','(UTC)}}')\n",
    "for count,rfc in enumerate(rfc_list):\n",
    "    with open(inputText, \"w\", encoding=\"utf-8\") as text_file:\n",
    "        text_file.write(rfc['page_text'])\n",
    "    os.system(gravitasParseCommand)\n",
    "    with open(outputText) as parsed_json:\n",
    "        parsed_rfc = json.load(parsed_json)\n",
    "    rfc_list[count]['page_text'] = parsed_rfc\n",
    "out_file = open(f'wikipedia_parsed.json', \"w\", encoding='utf-8')\n",
    "json.dump(rfc_list,out_file,indent = 6)\n",
    "out_file.close()"
   ]
  }
 ],
 "metadata": {
  "kernelspec": {
   "display_name": "Python 3 (ipykernel)",
   "language": "python",
   "name": "python3"
  },
  "language_info": {
   "codemirror_mode": {
    "name": "ipython",
    "version": 3
   },
   "file_extension": ".py",
   "mimetype": "text/x-python",
   "name": "python",
   "nbconvert_exporter": "python",
   "pygments_lexer": "ipython3",
   "version": "3.10.6"
  }
 },
 "nbformat": 4,
 "nbformat_minor": 5
}
