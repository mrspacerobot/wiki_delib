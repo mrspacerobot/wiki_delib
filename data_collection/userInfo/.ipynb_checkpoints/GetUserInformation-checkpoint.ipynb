{
 "cells": [
  {
   "cell_type": "code",
   "execution_count": null,
   "id": "6b075499-e608-4222-b8e9-3f7b8dba5afc",
   "metadata": {},
   "outputs": [],
   "source": [
    "##With preprocessed RFC-Discussion getting Information on Users\n",
    "import pandas as pd\n",
    "import json\n",
    "import re\n",
    "\n",
    "wikipedia_parsed = \"../json_files/grawitas_output/wikipedia_parsed.json\"\n",
    "wikidata_parsed = \"../json_files/grawitas_output/wikidata_parsed.json\"\n",
    "meta_parsed = \"../json_files/grawitas_output/meta_parsed.json\"\n",
    "with open(wikipedia_parsed) as f:\n",
    "        wikipedia_list_of_dicts = json.load(f)\n",
    "with open(wikidata_parsed) as f:\n",
    "        wikidata_list_of_dicts = json.load(f)\n",
    "with open(meta_parsed) as f:\n",
    "        meta_list_of_dicts = json.load(f)\n",
    "        \n",
    "def getcleanDataFrame(json):\n",
    "    df = pd.json_normalize(json, \"page_text\", [\"page_title\"])\n",
    "    #remove IP-Adresses from userArray\n",
    "    df2 = df[~df['user'].str.contains(re.compile(r'\\b\\d{1,3}\\.\\d{1,3}\\.\\d{1,3}\\.\\d{1,3}\\b'))]\n",
    "    return list(df2[\"user\"].unique())\n",
    "\n",
    "\n",
    "wikipedia_user_list = getcleanDataFrame(wikipedia_list_of_dicts)\n",
    "wikidata_user_list = getcleanDataFrame(wikidata_list_of_dicts)\n",
    "meta_user_list = getcleanDataFrame(wikidata_list_of_dicts)\n",
    "\n",
    "# Concatenate the lists\n",
    "merged_user_list = wikipedia_user_list + wikidata_user_list + meta_user_list\n",
    "\n",
    "# Convert to a set to remove duplicates\n",
    "unique_user_list = list(set(merged_user_list))"
   ]
  },
  {
   "cell_type": "code",
   "execution_count": null,
   "id": "4f0ea2c7-5b36-4143-9bd5-91da2f7e3b78",
   "metadata": {},
   "outputs": [],
   "source": [
    "print(len(unique_user_list))"
   ]
  },
  {
   "cell_type": "code",
   "execution_count": null,
   "id": "49b10560-d720-4efd-9e66-39e08e14065e",
   "metadata": {},
   "outputs": [],
   "source": [
    "from userinformation import getUserInfoToJSON\n",
    "getUserInfoToJSON(unique_user_list, \"../json_files/user_info/users.json\")"
   ]
  },
  {
   "cell_type": "code",
   "execution_count": null,
   "id": "0741049e-2cbb-40f2-be6a-d1f070664605",
   "metadata": {},
   "outputs": [],
   "source": [
    "import userinformation\n",
    "userinformation.getUserID(\"Jack O''Lantern\",'enwiki')"
   ]
  },
  {
   "cell_type": "code",
   "execution_count": null,
   "id": "98b1ef3b-6c26-4d35-ba84-e8140f816ef3",
   "metadata": {},
   "outputs": [],
   "source": [
    "users = \"../json_files/user_info/users.json\"\n",
    "with open(users) as f:\n",
    "        user_list_of_dicts = json.load(f)\n",
    "df = pd.json_normalize(user_list_of_dicts)"
   ]
  }
 ],
 "metadata": {
  "kernelspec": {
   "display_name": "Python 3 (ipykernel)",
   "language": "python",
   "name": "python3"
  },
  "language_info": {
   "codemirror_mode": {
    "name": "ipython",
    "version": 3
   },
   "file_extension": ".py",
   "mimetype": "text/x-python",
   "name": "python",
   "nbconvert_exporter": "python",
   "pygments_lexer": "ipython3",
   "version": "3.10.6"
  }
 },
 "nbformat": 4,
 "nbformat_minor": 5
}
