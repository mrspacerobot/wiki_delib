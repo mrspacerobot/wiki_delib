{
 "cells": [
  {
   "cell_type": "code",
   "execution_count": 1,
   "id": "697c414c-af86-43e3-a6ae-133df6a9d6fb",
   "metadata": {},
   "outputs": [],
   "source": [
    "import data_cleaning\n",
    "import json\n",
    "import pandas as pd\n",
    "from langdetect import detect\n",
    "import re\n",
    "from tqdm import tqdm\n",
    "import mwparserfromhell as mw"
   ]
  },
  {
   "cell_type": "code",
   "execution_count": 2,
   "id": "38116672-25fb-495d-af60-83216526e29b",
   "metadata": {},
   "outputs": [],
   "source": [
    "wikipedia_parsed = \"../../data/json_files/grawitas_output/wikipedia_parsed.json\"\n",
    "wikidata_parsed = \"../../data/json_files/grawitas_output/wikidata_parsed.json\"\n",
    "meta_parsed = \"../../data/json_files/grawitas_output/meta_parsed.json\"\n",
    "with open(wikipedia_parsed) as f:\n",
    "        wikipedia_list_of_dicts = json.load(f)  \n",
    "f.close()\n",
    "\n",
    "with open(wikidata_parsed) as f:\n",
    "        wikidata_list_of_dicts = json.load(f) \n",
    "f.close()       \n",
    "with open(meta_parsed) as f:\n",
    "        meta_list_of_dicts = json.load(f)  \n",
    "f.close()"
   ]
  },
  {
   "cell_type": "code",
   "execution_count": 3,
   "id": "ca8d0720",
   "metadata": {},
   "outputs": [],
   "source": [
    "meta_list_of_dicts = [page for page in meta_list_of_dicts if page[\"page_text\"] is not None]\n",
    "meta_list_of_dicts = [page for page in meta_list_of_dicts if type(page[\"page_text\"]) is list]"
   ]
  },
  {
   "cell_type": "code",
   "execution_count": 4,
   "id": "f23526e2",
   "metadata": {},
   "outputs": [],
   "source": [
    "wikipedia_list_of_dicts = [page for page in wikipedia_list_of_dicts if page[\"page_text\"] is not None]\n",
    "wikipedia_list_of_dicts = [page for page in wikipedia_list_of_dicts if type(page[\"page_text\"]) is list]"
   ]
  },
  {
   "cell_type": "code",
   "execution_count": 5,
   "id": "38c33a0e",
   "metadata": {},
   "outputs": [],
   "source": [
    "wikidata_list_of_dicts = [page for page in wikidata_list_of_dicts if page[\"page_text\"] is not None]\n",
    "wikidata_list_of_dicts = [page for page in wikidata_list_of_dicts if type(page[\"page_text\"]) is list]"
   ]
  },
  {
   "cell_type": "code",
   "execution_count": 6,
   "id": "c150ed13-c51d-4a86-bfd9-b673dfc5e9c6",
   "metadata": {},
   "outputs": [],
   "source": [
    "wiki_comments, wiki_rfc = data_cleaning.get_RFC_Comment_Table(wikipedia_list_of_dicts, wikidata_list_of_dicts, meta_list_of_dicts)"
   ]
  },
  {
   "cell_type": "code",
   "execution_count": 7,
   "id": "1ddd61c9-b4bd-40fb-986c-097150c6bfc0",
   "metadata": {},
   "outputs": [],
   "source": [
    "comment_df = pd.json_normalize(wiki_comments, \"page_text\", [\"page_title\",\"page_id\"])"
   ]
  },
  {
   "cell_type": "code",
   "execution_count": 8,
   "id": "bfa3faae-8e6f-4e25-9779-cbdf2c99505b",
   "metadata": {},
   "outputs": [],
   "source": [
    "rfc_df = pd.json_normalize(wiki_rfc)"
   ]
  },
  {
   "attachments": {},
   "cell_type": "markdown",
   "id": "b1c3ff65",
   "metadata": {},
   "source": [
    "## Get Closing Date Info"
   ]
  },
  {
   "cell_type": "code",
   "execution_count": 9,
   "id": "947ce3e4",
   "metadata": {},
   "outputs": [],
   "source": [
    "with open(\"../../data/json_files/rfc_pages/meta.json\") as f:\n",
    "    meta = json.load(f)"
   ]
  },
  {
   "cell_type": "code",
   "execution_count": 10,
   "id": "4d66d502",
   "metadata": {},
   "outputs": [],
   "source": [
    "for page in meta:\n",
    "    text = page['page_text']\n",
    "    wikicode = mw.parse(text)\n",
    "    rfc_templates = wikicode.filter_templates(matches=lambda template: template.name.matches(\"rfc subpage\"))\n",
    "    #comment_value = rfc_templates[0].get(\"comment\").value.strip()\n",
    "    if \"date\" in rfc_templates[0]:\n",
    "        date_value = rfc_templates[0].get(\"date\").value.strip()\n",
    "        rfc_df.loc[rfc_df['page_id'] == page['page_id'], 'closing_date'] = date_value\n"
   ]
  },
  {
   "cell_type": "code",
   "execution_count": 11,
   "id": "d0218868",
   "metadata": {},
   "outputs": [],
   "source": [
    "with open(\"../../data/json_files/rfc_pages/wikidata.json\") as f:\n",
    "    wikidata = json.load(f)"
   ]
  },
  {
   "cell_type": "code",
   "execution_count": 12,
   "id": "5c5e15d1",
   "metadata": {},
   "outputs": [],
   "source": [
    "from datetime import datetime\n",
    "for page in wikidata:\n",
    "    text = wikidata[0]['page_text']\n",
    "    wikicode = mw.parse(text)\n",
    "    rfc_templates = wikicode.filter_templates(matches=lambda template: template.name.matches(\"discussion top\"))\n",
    "    #comment_value = rfc_templates[0].get(\"comment\").value.strip()\n",
    "    text = rfc_templates[0].params[0]\n",
    "    date = re.search(r'\\d{2}:\\d{2}, \\d{1,2} \\w+ \\d{4} \\(UTC\\)', str(text))\n",
    "    # parse the input string into a datetime object\n",
    "    input_datetime = datetime.strptime(date.group(), \"%H:%M, %d %B %Y (%Z)\")\n",
    "\n",
    "    # format the datetime object in the desired output format\n",
    "    output_str = input_datetime.strftime(\"%Y-%m-%dT%H:%M:%SZ\")\n",
    "    if output_str:\n",
    "        rfc_df.loc[rfc_df['page_id'] == page['page_id'], 'closing_date'] = output_str"
   ]
  },
  {
   "cell_type": "code",
   "execution_count": 13,
   "id": "ac8de440",
   "metadata": {},
   "outputs": [],
   "source": [
    "with open(\"../../data/json_files/rfc_pages/wikipedia.json\") as f:\n",
    "    wikipedia = json.load(f)"
   ]
  },
  {
   "cell_type": "code",
   "execution_count": 14,
   "id": "4b664042",
   "metadata": {},
   "outputs": [],
   "source": [
    "from datetime import datetime\n",
    "for page in wikipedia:\n",
    "    text = page['page_text']\n",
    "    wikicode = mw.parse(text)\n",
    "    rfc_templates = wikicode.filter_templates(matches=lambda template: template.name.matches(\"closed rfc top\"))\n",
    "    #comment_value = rfc_templates[0].get(\"comment\").value.strip()\n",
    "    if not rfc_templates:\n",
    "        continue\n",
    "    if not rfc_templates[0].params:\n",
    "        continue\n",
    "    text = rfc_templates[0].params[0]\n",
    "    date = re.search(r'\\d{2}:\\d{2}, \\d{1,2} \\w+ \\d{4} \\(UTC\\)', str(text))\n",
    "    # parse the input string into a datetime object\n",
    "    if not date:\n",
    "        continue\n",
    "    input_datetime = datetime.strptime(date.group(), \"%H:%M, %d %B %Y (%Z)\")\n",
    "\n",
    "    # format the datetime object in the desired output format\n",
    "    output_str = input_datetime.strftime(\"%Y-%m-%dT%H:%M:%SZ\")\n",
    "    if output_str:\n",
    "        rfc_df.loc[rfc_df['page_id'] == page['page_id'], 'closing_date'] = output_str\n",
    "    "
   ]
  },
  {
   "attachments": {},
   "cell_type": "markdown",
   "id": "027909ff",
   "metadata": {},
   "source": [
    "## Convert Templates to readable text"
   ]
  },
  {
   "cell_type": "code",
   "execution_count": 15,
   "id": "3d4cc86e-7e73-4216-8309-daf8ca9ed8c8",
   "metadata": {},
   "outputs": [
    {
     "name": "stderr",
     "output_type": "stream",
     "text": [
      " 15%|█▍        | 14817/98839 [10:04<4:17:28,  5.44it/s] /home/dylan/anaconda3/envs/test_env/lib/python3.9/site-packages/bs4/__init__.py:435: MarkupResemblesLocatorWarning: The input looks more like a filename than markup. You may want to open this file and pass the filehandle into Beautiful Soup.\n",
      "  warnings.warn(\n",
      "100%|██████████| 98839/98839 [49:28<00:00, 33.30it/s]   \n"
     ]
    }
   ],
   "source": [
    "data_cleaning.templatesToReadableText(comment_df)"
   ]
  },
  {
   "attachments": {},
   "cell_type": "markdown",
   "id": "1d6cc849",
   "metadata": {},
   "source": [
    "## Remove all nonenglish comments and non text comments"
   ]
  },
  {
   "cell_type": "code",
   "execution_count": 16,
   "id": "af0b7b98-273d-47cf-ae92-6f1043e165ad",
   "metadata": {},
   "outputs": [],
   "source": [
    "def detectLanguage(text):\n",
    "    try:\n",
    "        return detect(text)\n",
    "    except:\n",
    "        regex = r\"(?i)\\b((?:https?://|www\\d{0,3}[.]|[a-z0-9.\\-]+[.][a-z]{2,4}/)(?:[^\\s()<>]+|\\(([^\\s()<>]+|(\\([^\\s()<>]+\\)))*\\))+(?:\\(([^\\s()<>]+|(\\([^\\s()<>]+\\)))*\\)|[^\\s`!()\\[\\]{};:'\\\".,<>?«»“”‘’]))\"\n",
    "        url = re.findall(regex, text)\n",
    "        if url:\n",
    "            return \"en\""
   ]
  },
  {
   "cell_type": "code",
   "execution_count": 17,
   "id": "7260b80d-c3f6-475e-8758-bb27a8ce660e",
   "metadata": {},
   "outputs": [
    {
     "name": "stderr",
     "output_type": "stream",
     "text": [
      "/tmp/ipykernel_549/3506980960.py:9: FutureWarning: The default value of regex will change from True to False in a future version.\n",
      "  comment_df['text'] = comment_df['text'].str.replace(pattern, '')\n"
     ]
    }
   ],
   "source": [
    "# define regular expression pattern for matching non-word characters\n",
    "non_word_pattern = re.compile(r'^\\W*$')\n",
    "\n",
    "non_alpha_pattern = re.compile(r'^[^a-zA-Z]+$')\n",
    "\n",
    "# Define regex pattern\n",
    "pattern = \"\\s*15px(?:\\|[a-zA-Z]+=\\s*)?(?:\\|[a-zA-Z]+=)?(?:\\|[a-zA-Z]+\\s*)?\"\n",
    "\n",
    "comment_df['text'] = comment_df['text'].str.replace(pattern, '')\n",
    "\n",
    "# filter dataframe to remove rows that contain only non-alpha characters\n",
    "comment_df = comment_df[~comment_df['text'].str.contains(non_alpha_pattern)]\n",
    "\n",
    "# filter dataframe to remove rows that contain only non-word characters\n",
    "comment_df = comment_df[~comment_df['text'].str.contains(non_word_pattern)]"
   ]
  },
  {
   "cell_type": "code",
   "execution_count": 18,
   "id": "ad26fb85-1afb-490a-a2ce-aca1424e3142",
   "metadata": {},
   "outputs": [
    {
     "name": "stderr",
     "output_type": "stream",
     "text": [
      "100%|██████████| 97690/97690 [04:52<00:00, 333.51it/s]\n"
     ]
    }
   ],
   "source": [
    "tqdm.pandas()\n",
    "# Add a new column to the DataFrame indicating the language of the text\n",
    "comment_df['language'] = comment_df['text'].progress_apply(detectLanguage)\n",
    "\n",
    "comment_df = comment_df[comment_df['language'] == 'en']"
   ]
  },
  {
   "attachments": {},
   "cell_type": "markdown",
   "id": "b6038f70",
   "metadata": {},
   "source": [
    "## Saving data to csv files"
   ]
  },
  {
   "cell_type": "code",
   "execution_count": 19,
   "id": "456c5be2-7a97-4d89-af1a-b11c5c109594",
   "metadata": {},
   "outputs": [
    {
     "name": "stdout",
     "output_type": "stream",
     "text": [
      "\n",
      "CSV String:\n",
      " None\n"
     ]
    }
   ],
   "source": [
    "gfg_csv_data = rfc_df.to_csv('../../data/rfc.csv', index = False)\n",
    "print('\\nCSV String:\\n', gfg_csv_data)"
   ]
  },
  {
   "cell_type": "code",
   "execution_count": 20,
   "id": "19e771c9-55d4-4d24-b311-4f5d600bedae",
   "metadata": {},
   "outputs": [
    {
     "name": "stdout",
     "output_type": "stream",
     "text": [
      "\n",
      "CSV String:\n",
      " None\n"
     ]
    }
   ],
   "source": [
    "#comment_df.loc[60187,'date'] = '2022-03-22T23:36:00Z'\n",
    "gfg_csv_data = comment_df.to_csv('../../data/rfc_comments.csv', index = False)\n",
    "print('\\nCSV String:\\n', gfg_csv_data)"
   ]
  }
 ],
 "metadata": {
  "kernelspec": {
   "display_name": "Python 3 (ipykernel)",
   "language": "python",
   "name": "python3"
  },
  "language_info": {
   "codemirror_mode": {
    "name": "ipython",
    "version": 3
   },
   "file_extension": ".py",
   "mimetype": "text/x-python",
   "name": "python",
   "nbconvert_exporter": "python",
   "pygments_lexer": "ipython3",
   "version": "3.9.16"
  }
 },
 "nbformat": 4,
 "nbformat_minor": 5
}
