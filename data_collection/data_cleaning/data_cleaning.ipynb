{
 "cells": [
  {
   "cell_type": "code",
   "execution_count": 4,
   "id": "697c414c-af86-43e3-a6ae-133df6a9d6fb",
   "metadata": {},
   "outputs": [
    {
     "name": "stdout",
     "output_type": "stream",
     "text": [
      "Requirement already satisfied: langdetect in /home/dylan/anaconda3/envs/test_env/lib/python3.9/site-packages (1.0.9)\n",
      "Requirement already satisfied: six in /home/dylan/anaconda3/envs/test_env/lib/python3.9/site-packages (from langdetect) (1.16.0)\n"
     ]
    }
   ],
   "source": [
    "import data_cleaning\n",
    "import json\n",
    "import pandas as pd\n",
    "import sys\n",
    "import re\n",
    "!{sys.executable} -m pip install langdetect"
   ]
  },
  {
   "cell_type": "code",
   "execution_count": 5,
   "id": "38116672-25fb-495d-af60-83216526e29b",
   "metadata": {},
   "outputs": [],
   "source": [
    "wikipedia_parsed = \"../data/json_files/grawitas_output/wikipedia_parsed.json\"\n",
    "wikidata_parsed = \"../data/json_files/grawitas_output/wikidata_parsed.json\"\n",
    "meta_parsed = \"../data/json_files/grawitas_output/meta_parsed.json\"\n",
    "with open(wikipedia_parsed) as f:\n",
    "        wikipedia_list_of_dicts = json.load(f)  \n",
    "\n",
    "with open(wikidata_parsed) as f:\n",
    "        wikidata_list_of_dicts = json.load(f) \n",
    "        \n",
    "with open(meta_parsed) as f:\n",
    "        meta_list_of_dicts = json.load(f)  "
   ]
  },
  {
   "cell_type": "code",
   "execution_count": 6,
   "id": "c150ed13-c51d-4a86-bfd9-b673dfc5e9c6",
   "metadata": {},
   "outputs": [],
   "source": [
    "wiki_comments, wiki_rfc = data_cleaning.get_RFC_Comment_Table(wikipedia_list_of_dicts, wikidata_list_of_dicts, meta_list_of_dicts)"
   ]
  },
  {
   "cell_type": "code",
   "execution_count": 7,
   "id": "1ddd61c9-b4bd-40fb-986c-097150c6bfc0",
   "metadata": {},
   "outputs": [],
   "source": [
    "comment_df = pd.json_normalize(wiki_comments, \"page_text\", [\"page_title\",\"page_id\"])"
   ]
  },
  {
   "cell_type": "code",
   "execution_count": 8,
   "id": "bfa3faae-8e6f-4e25-9779-cbdf2c99505b",
   "metadata": {},
   "outputs": [],
   "source": [
    "rfc_df = pd.json_normalize(wiki_rfc)"
   ]
  },
  {
   "cell_type": "code",
   "execution_count": 9,
   "id": "3d4cc86e-7e73-4216-8309-daf8ca9ed8c8",
   "metadata": {},
   "outputs": [
    {
     "name": "stderr",
     "output_type": "stream",
     "text": [
      "100%|██████████| 102474/102474 [00:49<00:00, 2088.53it/s]\n"
     ]
    }
   ],
   "source": [
    "data_cleaning.templatesToReadableText(comment_df)"
   ]
  },
  {
   "cell_type": "code",
   "execution_count": 10,
   "id": "af0b7b98-273d-47cf-ae92-6f1043e165ad",
   "metadata": {},
   "outputs": [],
   "source": [
    "from langdetect import detect\n",
    "import re\n",
    "def detectLanguage(text):\n",
    "    try:\n",
    "        return detect(text)\n",
    "    except:\n",
    "        regex = r\"(?i)\\b((?:https?://|www\\d{0,3}[.]|[a-z0-9.\\-]+[.][a-z]{2,4}/)(?:[^\\s()<>]+|\\(([^\\s()<>]+|(\\([^\\s()<>]+\\)))*\\))+(?:\\(([^\\s()<>]+|(\\([^\\s()<>]+\\)))*\\)|[^\\s`!()\\[\\]{};:'\\\".,<>?«»“”‘’]))\"\n",
    "        url = re.findall(regex, text)\n",
    "        if url:\n",
    "            return \"en\""
   ]
  },
  {
   "cell_type": "code",
   "execution_count": 11,
   "id": "d02c50d5-e7da-429b-acdb-ac9dac804bcf",
   "metadata": {},
   "outputs": [],
   "source": [
    "# define regular expression pattern for matching non-word characters\n",
    "non_word_pattern = re.compile(r'^\\W*$')\n",
    "\n",
    "non_alpha_pattern = re.compile(r'^[^a-zA-Z]+$')\n",
    "\n",
    "# Define regex pattern\n",
    "pattern = '\\s*15px\\|[a-zA-Z]+=\\s*\\|[a-zA-Z]+=[a-zA-Z]+\\s*\\|'"
   ]
  },
  {
   "cell_type": "code",
   "execution_count": 12,
   "id": "ad26fb85-1afb-490a-a2ce-aca1424e3142",
   "metadata": {},
   "outputs": [
    {
     "name": "stderr",
     "output_type": "stream",
     "text": [
      "/tmp/ipykernel_9097/4090611691.py:4: FutureWarning: The default value of regex will change from True to False in a future version.\n",
      "  comment_df['text'] = comment_df['text'].str.replace(pattern, '')\n",
      "100%|██████████| 101449/101449 [12:18<00:00, 137.36it/s]\n"
     ]
    }
   ],
   "source": [
    "from tqdm import tqdm\n",
    "tqdm.pandas()\n",
    "\n",
    "comment_df['text'] = comment_df['text'].str.replace(pattern, '')\n",
    "\n",
    "# filter dataframe to remove rows that contain only non-alpha characters\n",
    "comment_df = comment_df[~comment_df['text'].str.contains(non_alpha_pattern)]\n",
    "\n",
    "# filter dataframe to remove rows that contain only non-word characters\n",
    "comment_df = comment_df[~comment_df['text'].str.contains(non_word_pattern)]\n",
    "\n",
    "# Add a new column to the DataFrame indicating the language of the text\n",
    "comment_df['language'] = comment_df['text'].progress_apply(detectLanguage)\n",
    "\n",
    "comment_df = comment_df[comment_df['language'] == 'en']"
   ]
  },
  {
   "cell_type": "code",
   "execution_count": 13,
   "id": "456c5be2-7a97-4d89-af1a-b11c5c109594",
   "metadata": {},
   "outputs": [
    {
     "name": "stdout",
     "output_type": "stream",
     "text": [
      "\n",
      "CSV String:\n",
      " None\n"
     ]
    }
   ],
   "source": [
    "gfg_csv_data = rfc_df.to_csv('../data/rfc.csv', index = False)\n",
    "print('\\nCSV String:\\n', gfg_csv_data) "
   ]
  },
  {
   "cell_type": "code",
   "execution_count": 14,
   "id": "19e771c9-55d4-4d24-b311-4f5d600bedae",
   "metadata": {},
   "outputs": [
    {
     "name": "stdout",
     "output_type": "stream",
     "text": [
      "\n",
      "CSV String:\n",
      " None\n"
     ]
    }
   ],
   "source": [
    "#comment_df.loc[60187,'date'] = '2022-03-22T23:36:00Z'\n",
    "gfg_csv_data = comment_df.to_csv('../data/rfc_comments.csv', index = False)\n",
    "print('\\nCSV String:\\n', gfg_csv_data) "
   ]
  },
  {
   "cell_type": "code",
   "execution_count": 15,
   "id": "6cb016f9-9e39-4002-8351-16243a86382d",
   "metadata": {},
   "outputs": [],
   "source": [
    "def getcleanDataFrame(df):\n",
    "    #remove IP-Adresses from userArray\n",
    "    df = df[~df['user'].str.contains(re.compile(r'\\b\\d{1,3}\\.\\d{1,3}\\.\\d{1,3}\\.\\d{1,3}\\b'))]\n",
    "    return list(df[\"user\"].unique())\n",
    "\n",
    "user_list = getcleanDataFrame(comment_df)"
   ]
  },
  {
   "cell_type": "code",
   "execution_count": 16,
   "id": "3e4b62c5-e9f4-4f61-bf84-bceb9dbfa45d",
   "metadata": {},
   "outputs": [
    {
     "name": "stdout",
     "output_type": "stream",
     "text": [
      "9363\n"
     ]
    }
   ],
   "source": [
    "print(len(user_list))"
   ]
  },
  {
   "cell_type": "code",
   "execution_count": 17,
   "id": "bf13f06b",
   "metadata": {},
   "outputs": [],
   "source": [
    "def getUserInfoToJSON(userArray, output):\n",
    "    \"\"\"\n",
    "    Takes list of users outputs list of JSON objects containing wiki projects, user rights, edit count, registration and first comment dates\n",
    "    \"\"\" \n",
    "    with multiprocessing.Pool(processes=8) as pool:\n",
    "        results = list(tqdm.tqdm(pool.imap(worker, userArray)))\n",
    "        with open(output, 'w') as file:\n",
    "            json.dump(list(results), file)\n",
    "    \n",
    "    \n",
    "def worker(user):\n",
    "    try:\n",
    "        userDic = getUserInfoAcrossAllReplicaDatabases(user)\n",
    "        return userDic\n",
    "    except:\n",
    "        print(f\"failed to get userDic, with {user}\")"
   ]
  },
  {
   "cell_type": "code",
   "execution_count": 20,
   "id": "524995d9-c828-4c78-8c40-bce801869397",
   "metadata": {},
   "outputs": [
    {
     "name": "stderr",
     "output_type": "stream",
     "text": [
      "0it [00:00, ?it/s]"
     ]
    },
    {
     "name": "stdout",
     "output_type": "stream",
     "text": [
      "failed to get userDic, with Buffsfailed to get userDic, with EllenCTfailed to get userDic, with Cinderella157failed to get userDic, with Schazjmdfailed to get userDic, with Redrose64failed to get userDic, with DaRonPaynefailed to get userDic, with BC1278\n",
      "\n",
      "\n",
      "\n",
      "\n",
      "\n",
      "\n"
     ]
    },
    {
     "name": "stderr",
     "output_type": "stream",
     "text": [
      "1it [00:00,  2.37it/s]"
     ]
    },
    {
     "name": "stdout",
     "output_type": "stream",
     "text": [
      "failed to get userDic, with Coretheapplefailed to get userDic, with Norenfailed to get userDic, with Barkeep49failed to get userDic, with Cthomas3failed to get userDic, with Cynistrategusfailed to get userDic, with Eggishornfailed to get userDic, with Gråbergs Gråa Sång\n",
      "\n",
      "\n",
      "\n",
      "\n",
      "\n",
      "\n",
      "failed to get userDic, with Debresserfailed to get userDic, with Ermenrichfailed to get userDic, with JzGfailed to get userDic, with GPinkerton\n",
      "\n",
      "\n",
      "\n",
      "\n",
      "failed to get userDic, with Rosguillfailed to get userDic, with Slaterstevenfailed to get userDic, with Jenhawk777\n",
      "\n",
      "failed to get userDic, with Smeat75failed to get userDic, with P Aculeiusfailed to get userDic, with Aquillion\n",
      "\n",
      "\n",
      "failed to get userDic, with Buidhefailed to get userDic, with Ar2332\n",
      "failed to get userDic, with Llywrch\n",
      "failed to get userDic, with FyzixFighter\n",
      "\n",
      "failed to get userDic, with Vevervefailed to get userDic, with Robert McClenon\n",
      "\n",
      "failed to get userDic, with Pyrite Profailed to get userDic, with Pincretefailed to get userDic, with Marcocapelle\n",
      "failed to get userDic, with Szmenderowiecki\n",
      "\n",
      "failed to get userDic, with Magnolia677\n",
      "failed to get userDic, with RandomCanadian\n",
      "\n",
      "failed to get userDic, with CASalt\n",
      "failed to get userDic, with Walter Görlitzfailed to get userDic, with Maclean25failed to get userDic, with Mr Serjeant Buzfuz\n",
      "failed to get userDic, with Trackratte\n",
      "\n",
      "failed to get userDic, with Joeyconnickfailed to get userDic, with Markbassett\n",
      "\n",
      "\n",
      "failed to get userDic, with Seraphimblade\n",
      "failed to get userDic, with 7288P\n"
     ]
    },
    {
     "name": "stderr",
     "output_type": "stream",
     "text": [
      "45it [00:00, 112.28it/s]"
     ]
    },
    {
     "name": "stdout",
     "output_type": "stream",
     "text": [
      "failed to get userDic, with Pelagicfailed to get userDic, with Phatblackmamafailed to get userDic, with Nikkimariafailed to get userDic, with Primefac\n",
      "\n",
      "\n",
      "\n",
      "failed to get userDic, with Bastunfailed to get userDic, with Firefangledfeathers\n",
      "\n",
      "failed to get userDic, with The Banner\n",
      "failed to get userDic, with Ghost of Kievfailed to get userDic, with Sceptrefailed to get userDic, with Nick Cooper\n",
      "\n",
      "failed to get userDic, with DeCausa\n",
      "failed to get userDic, with Wakelampfailed to get userDic, with Canterbury Tailfailed to get userDic, with Masem\n",
      "\n",
      "\n",
      "\n",
      "failed to get userDic, with Sideswipe9thfailed to get userDic, with Mztourist\n",
      "\n",
      "failed to get userDic, with Jtrrs0failed to get userDic, with Guest2625\n",
      "\n",
      "failed to get userDic, with Cashew.wheel\n",
      "failed to get userDic, with Pranesh Ravikumarfailed to get userDic, with Alaexis\n",
      "\n",
      "failed to get userDic, with Paragon Dekufailed to get userDic, with SchroCat\n",
      "failed to get userDic, with Maine Lobster\n",
      "failed to get userDic, with Thryduulf\n",
      "\n",
      "failed to get userDic, with Avatar317\n",
      "failed to get userDic, with May His Shadow Fall Upon You\n",
      "failed to get userDic, with Adoring nanny\n",
      "failed to get userDic, with Soupvector\n",
      "failed to get userDic, with Ozzie10aaaafailed to get userDic, with Roxy the dogfailed to get userDic, with RexxS\n",
      "\n",
      "\n",
      "failed to get userDic, with Flyer22 Reborn\n",
      "failed to get userDic, with Snorifailed to get userDic, with Jack Upland\n",
      "\n",
      "failed to get userDic, with Abatementyogin\n",
      "failed to get userDic, with Jc37\n",
      "failed to get userDic, with Tchouppy\n",
      "failed to get userDic, with Iskandar323\n",
      "failed to get userDic, with Tombah"
     ]
    },
    {
     "name": "stderr",
     "output_type": "stream",
     "text": [
      "84it [00:00, 185.60it/s]"
     ]
    },
    {
     "name": "stdout",
     "output_type": "stream",
     "text": [
      "\n",
      "failed to get userDic, with Selfstudier\n",
      "failed to get userDic, with DeemDeem52failed to get userDic, with Bolter21failed to get userDic, with Triggerhippie4\n",
      "\n",
      "failed to get userDic, with Nishidani\n",
      "failed to get userDic, with Telaviv1failed to get userDic, with Yeoutie\n",
      "\n",
      "\n",
      "failed to get userDic, with Gog the Mild\n",
      "failed to get userDic, with Zero0000failed to get userDic, with Onceinawhile\n",
      "\n",
      "failed to get userDic, with Drsmoofailed to get userDic, with Archwayh\n",
      "\n",
      "failed to get userDic, with AlbinoFerretfailed to get userDic, with Borsoka\n",
      "failed to get userDic, with SusunW\n",
      "\n",
      "failed to get userDic, with Alx-pl\n",
      "failed to get userDic, with Cebr1979failed to get userDic, with Volunteer Marek\n",
      "failed to get userDic, with Piotrus\n",
      "\n",
      "failed to get userDic, with Koertefafailed to get userDic, with Kmicic\n",
      "failed to get userDic, with Novickas\n",
      "\n",
      "failed to get userDic, with Norden1990\n",
      "failed to get userDic, with Surtsicnafailed to get userDic, with IpseCustosfailed to get userDic, with Orangemike\n",
      "\n",
      "\n",
      "failed to get userDic, with Xxanthippefailed to get userDic, with XOReaster\n",
      "failed to get userDic, with Michael D. Turnbullfailed to get userDic, with StellarNerd\n",
      "\n",
      "\n",
      "failed to get userDic, with AnneDant87failed to get userDic, with DIYeditorfailed to get userDic, with 7milestoHope\n",
      "\n",
      "\n",
      "failed to get userDic, with Rja13ww33\n",
      "failed to get userDic, with GoodDayfailed to get userDic, with Nemovfailed to get userDic, with Jayron32\n",
      "\n",
      "failed to get userDic, with Lukewarmbeerfailed to get userDic, with Iamreallygoodatcheckers\n",
      "\n",
      "\n"
     ]
    },
    {
     "name": "stderr",
     "output_type": "stream",
     "text": [
      "119it [00:00, 225.64it/s]"
     ]
    },
    {
     "name": "stdout",
     "output_type": "stream",
     "text": [
      "failed to get userDic, with Jirka.h23\n",
      "failed to get userDic, with Robynthehode\n",
      "failed to get userDic, with SportingFlyerfailed to get userDic, with MelbourneStar\n",
      "failed to get userDic, with Marquis de Fauxfailed to get userDic, with DannyS712\n",
      "\n",
      "\n",
      "failed to get userDic, with PopScifailed to get userDic, with Snooganssnoogans\n",
      "\n",
      "failed to get userDic, with Hob Gadling\n",
      "failed to get userDic, with Alexbrnfailed to get userDic, with Mfbfailed to get userDic, with Happy monsoon day\n",
      "\n",
      "\n",
      "failed to get userDic, with ජපස\n",
      "failed to get userDic, with JohnInDC\n",
      "failed to get userDic, with J. Johnson\n",
      "failed to get userDic, with 1990sguy\n",
      "failed to get userDic, with Gamalielfailed to get userDic, with Neutrality\n",
      "\n",
      "failed to get userDic, with Sdkb\n",
      "failed to get userDic, with Deacon Vorbisfailed to get userDic, with Define Real\n",
      "\n",
      "failed to get userDic, with Korny ONearfailed to get userDic, with JzG/help\n",
      "\n",
      "failed to get userDic, with Kohlrabi Pickle\n",
      "failed to get userDic, with Darwin Naz\n",
      "failed to get userDic, with Wumbolo\n",
      "failed to get userDic, with Newslinger\n"
     ]
    },
    {
     "name": "stderr",
     "output_type": "stream",
     "text": [
      "151it [00:00, 205.02it/s]"
     ]
    },
    {
     "name": "stdout",
     "output_type": "stream",
     "text": [
      "failed to get userDic, with FormalDude\n",
      "failed to get userDic, with BrigadierG\n",
      "failed to get userDic, with Rowsdower45\n",
      "failed to get userDic, with Tony1\n",
      "failed to get userDic, with David Eppstein\n",
      "failed to get userDic, with Jurisdicta\n",
      "failed to get userDic, with Mmeijeri\n",
      "failed to get userDic, with MarshallKe\n",
      "failed to get userDic, with JayBeeEllfailed to get userDic, with Dekimasu\n",
      "\n",
      "failed to get userDic, with ABCEdit\n",
      "failed to get userDic, with BarcrMac\n",
      "failed to get userDic, with Keahapana\n",
      "failed to get userDic, with ProcrastinatingReader\n",
      "failed to get userDic, with Mudwater\n",
      "failed to get userDic, with Carlstak\n",
      "failed to get userDic, with Springee\n",
      "failed to get userDic, with Curbon7\n",
      "failed to get userDic, with SchreiberBike\n",
      "failed to get userDic, with Mathglot\n",
      "failed to get userDic, with Dlthewavefailed to get userDic, with North8000#topfailed to get userDic, with Yair rand\n",
      "\n",
      "\n",
      "failed to get userDic, with Chicdat\n",
      "failed to get userDic, with WhatamIdoing\n",
      "failed to get userDic, with Endwise\n",
      "failed to get userDic, with David Fuchs\n"
     ]
    },
    {
     "name": "stderr",
     "output_type": "stream",
     "text": [
      "178it [00:01, 210.90it/s]"
     ]
    },
    {
     "name": "stdout",
     "output_type": "stream",
     "text": [
      "failed to get userDic, with Zoozaz1\n",
      "failed to get userDic, with HTGS\n",
      "failed to get userDic, with Fowlerfowler\n",
      "failed to get userDic, with 2600:1702:4960:1DE0:4461:5D87:AB1A:AA76\n",
      "failed to get userDic, with Nosebagbear\n",
      "failed to get userDic, with Khajidha\n",
      "failed to get userDic, with Doug Weller\n",
      "failed to get userDic, with Allreet\n",
      "failed to get userDic, with Xaosflux\n",
      "failed to get userDic, with Emir of Wikipedia\n",
      "failed to get userDic, with Necrothesp\n",
      "failed to get userDic, with BusterD\n",
      "failed to get userDic, with BilledMammal\n",
      "failed to get userDic, with Hyperbolick\n",
      "failed to get userDic, with St3095\n",
      "failed to get userDic, with Tbhotch\n",
      "failed to get userDic, with Firejuggler86\n",
      "failed to get userDic, with Sj\n",
      "failed to get userDic, with The Gnome\n",
      "failed to get userDic, with Emiya1980\n",
      "failed to get userDic, with Nunh-huh\n",
      "failed to get userDic, with Rjensen\n",
      "failed to get userDic, with Tfkalk\n",
      "failed to get userDic, with Alansplodge\n",
      "failed to get userDic, with Saranoon\n",
      "failed to get userDic, with Moryak\n",
      "failed to get userDic, with Wes sideman"
     ]
    },
    {
     "name": "stderr",
     "output_type": "stream",
     "text": [
      "204it [00:01, 205.19it/s]"
     ]
    },
    {
     "name": "stdout",
     "output_type": "stream",
     "text": [
      "\n",
      "failed to get userDic, with DrKay\n",
      "failed to get userDic, with Mattia332\n",
      "failed to get userDic, with Sardine91\n",
      "failed to get userDic, with Warofdreamsfailed to get userDic, with Seth Whales\n",
      "\n",
      "failed to get userDic, with Mn1548\n",
      "failed to get userDic, with H. Carverfailed to get userDic, with Onel5969\n",
      "\n",
      "failed to get userDic, with Tutwakhamoe\n",
      "failed to get userDic, with PeeJay\n",
      "failed to get userDic, with Loopy30\n",
      "failed to get userDic, with FULBERT\n",
      "failed to get userDic, with Mvqr\n",
      "failed to get userDic, with SWinxy\n",
      "failed to get userDic, with Midnightblueowl\n",
      "failed to get userDic, with Czar Petar I\n",
      "failed to get userDic, with Sea Ane\n",
      "failed to get userDic, with Pistongrinder\n",
      "failed to get userDic, with RetiredDuke\n",
      "failed to get userDic, with Idealigic\n",
      "failed to get userDic, with Godric on Leave\n",
      "failed to get userDic, with Davidbena\n",
      "failed to get userDic, with Icewhiz\n"
     ]
    },
    {
     "name": "stderr",
     "output_type": "stream",
     "text": [
      "228it [00:01, 200.87it/s]"
     ]
    },
    {
     "name": "stdout",
     "output_type": "stream",
     "text": [
      "failed to get userDic, with ImTheIP\n",
      "failed to get userDic, with Serialjoepsycho\n",
      "failed to get userDic, with FMSky\n",
      "failed to get userDic, with Martinevans123\n",
      "failed to get userDic, with Fieari\n",
      "failed to get userDic, with SweetTaylorJames\n",
      "failed to get userDic, with PraiseVivec\n",
      "failed to get userDic, with Tepkunset\n",
      "failed to get userDic, with Compassionate727\n",
      "failed to get userDic, with Horse Eye Jack\n",
      "failed to get userDic, with Epiphyllumlover\n",
      "failed to get userDic, with Ahrtoodeetoo\n",
      "failed to get userDic, with Capitalismojo\n",
      "failed to get userDic, with Ad Orientem\n",
      "failed to get userDic, with Marquardtika\n",
      "failed to get userDic, with Calidum\n",
      "failed to get userDic, with Colin M\n",
      "failed to get userDic, with Contaldo80\n",
      "failed to get userDic, with Manannan67\n",
      "failed to get userDic, with Serial Number 54129\n",
      "failed to get userDic, with NickCT\n",
      "failed to get userDic, with Diligens\n"
     ]
    },
    {
     "name": "stderr",
     "output_type": "stream",
     "text": [
      "250it [00:01, 194.40it/s]"
     ]
    },
    {
     "name": "stdout",
     "output_type": "stream",
     "text": [
      "failed to get userDic, with Willthacheerleader18\n",
      "failed to get userDic, with Bus stop\n",
      "failed to get userDic, with Shenme\n",
      "failed to get userDic, with Uaat\n",
      "failed to get userDic, with BDD\n",
      "failed to get userDic, with CaptainEek\n",
      "failed to get userDic, with Johnbod\n",
      "failed to get userDic, with Peaceray\n",
      "failed to get userDic, with Zxcvbnm\n",
      "failed to get userDic, with Bro3256\n",
      "failed to get userDic, with Popcornfud\n",
      "failed to get userDic, with TheJoebro64\n",
      "failed to get userDic, with Mbrickn\n",
      "failed to get userDic, with Guyfromearth2\n",
      "failed to get userDic, with Techie3\n",
      "failed to get userDic, with Thomasfan1000\n",
      "failed to get userDic, with Moozgooz12\n",
      "failed to get userDic, with Landthins15failed to get userDic, with PanchamBro\n",
      "\n",
      "failed to get userDic, with SmartAn01failed to get userDic, with Ferret\n",
      "\n",
      "failed to get userDic, with Czar\n"
     ]
    },
    {
     "name": "stderr",
     "output_type": "stream",
     "text": [
      "272it [00:01, 193.03it/s]"
     ]
    },
    {
     "name": "stdout",
     "output_type": "stream",
     "text": [
      "failed to get userDic, with Sergecross73failed to get userDic, with S Marshall\n",
      "\n",
      "failed to get userDic, with Amakuru\n",
      "failed to get userDic, with Celia Homeford\n",
      "failed to get userDic, with Titus Goldfailed to get userDic, with Ortizesp\n",
      "\n",
      "failed to get userDic, with Barnards.tar.gz\n",
      "failed to get userDic, with 2601:249:9301:D570:510D:CC93:F35B:D909\n",
      "failed to get userDic, with Scapulus\n",
      "failed to get userDic, with Dbainsford\n",
      "failed to get userDic, with Graham11\n",
      "failed to get userDic, with buidhe\n",
      "failed to get userDic, with Tcr25\n",
      "failed to get userDic, with Mx. Granger\n",
      "failed to get userDic, with Isabelle Belato\n",
      "failed to get userDic, with Sansgloire\n",
      "failed to get userDic, with Warshy\n",
      "failed to get userDic, with Coldcreation\n",
      "failed to get userDic, with I dream of horses\n",
      "failed to get userDic, with Dominic Mayers\n",
      "failed to get userDic, with Modernist\n"
     ]
    },
    {
     "name": "stderr",
     "output_type": "stream",
     "text": [
      "293it [00:01, 180.39it/s]"
     ]
    },
    {
     "name": "stdout",
     "output_type": "stream",
     "text": [
      "failed to get userDic, with Coolcactus04\n",
      "failed to get userDic, with Justlettersandnumbers\n",
      "failed to get userDic, with Jayjg\n",
      "failed to get userDic, with Randy Kryn\n",
      "failed to get userDic, with Softlavender\n",
      "failed to get userDic, with 2600:1700:C960:2270:94A6:8FE6:3787:1A0D\n",
      "failed to get userDic, with 2600:1700:C960:2270:918D:B7CC:B727:5ADE\n",
      "failed to get userDic, with Huggums537\n",
      "failed to get userDic, with Mrschimpf\n",
      "failed to get userDic, with Senorangel\n",
      "failed to get userDic, with 2600:1700:C960:2270:D19C:DC99:A287:62E7\n",
      "failed to get userDic, with 2600:1700:C960:2270:E064:F985:6600:2A0F\n",
      "failed to get userDic, with NMasiha\n",
      "failed to get userDic, with Dmehus\n",
      "failed to get userDic, with Isaidnoway\n",
      "failed to get userDic, with Seagull123\n",
      "failed to get userDic, with Wilhelm Tell DCCXLVI\n",
      "failed to get userDic, with Canuckian89\n",
      "failed to get userDic, with Ingenuity\n"
     ]
    },
    {
     "name": "stderr",
     "output_type": "stream",
     "text": [
      "312it [00:01, 181.26it/s]"
     ]
    },
    {
     "name": "stdout",
     "output_type": "stream",
     "text": [
      "failed to get userDic, with Dronebogus\n",
      "failed to get userDic, with Kablammo\n",
      "failed to get userDic, with Wtfiv\n",
      "failed to get userDic, with SandyGeorgia\n",
      "failed to get userDic, with Victoriaearle\n",
      "failed to get userDic, with Ceoil\n",
      "failed to get userDic, with Xx78900\n",
      "failed to get userDic, with 2A00:23C7:2B86:9801:7D16:A849:4BD3:B993\n",
      "failed to get userDic, with 2A00:23C7:2B86:9801:7183:2FED:A175:2EA1\n",
      "failed to get userDic, with Shibbolethink\n",
      "failed to get userDic, with TulsaPoliticsFan\n",
      "failed to get userDic, with HAL333\n",
      "failed to get userDic, with DFlhb\n",
      "failed to get userDic, with Snow Rise\n",
      "failed to get userDic, with LindsayH\n",
      "failed to get userDic, with Gerda Arendt\n",
      "failed to get userDic, with ToeSchmoker\n",
      "failed to get userDic, with Montanabw\n",
      "failed to get userDic, with Ghirlandajo\n"
     ]
    },
    {
     "name": "stderr",
     "output_type": "stream",
     "text": [
      "331it [00:01, 178.59it/s]"
     ]
    },
    {
     "name": "stdout",
     "output_type": "stream",
     "text": [
      "failed to get userDic, with Malerooster\n",
      "failed to get userDic, with Smerus\n",
      "failed to get userDic, with ThadeusOfNazereth\n",
      "failed to get userDic, with MichaelMaggs\n",
      "failed to get userDic, with Asilvering\n",
      "failed to get userDic, with RL0919\n",
      "failed to get userDic, with Pyrrho the Skeptic\n",
      "failed to get userDic, with Ichthyovenator\n",
      "failed to get userDic, with पाटलिपुत्र\n",
      "failed to get userDic, with Ploversegg\n",
      "failed to get userDic, with Zoeperkoe\n",
      "failed to get userDic, with Regulovfailed to get userDic, with Tisnec\n",
      "\n",
      "failed to get userDic, with Carchasm\n",
      "failed to get userDic, with DGG\n",
      "failed to get userDic, with Deathlibrarian\n",
      "failed to get userDic, with Kraxler\n",
      "failed to get userDic, with GregKaye\n",
      "failed to get userDic, with Rotund but Reasonable\n",
      "failed to get userDic, with Norfolkbigfish\n"
     ]
    },
    {
     "name": "stderr",
     "output_type": "stream",
     "text": [
      "350it [00:01, 175.79it/s]"
     ]
    },
    {
     "name": "stdout",
     "output_type": "stream",
     "text": [
      "failed to get userDic, with Dr. Grampinator\n",
      "failed to get userDic, with Ifly6failed to get userDic, with Adam Bishop\n",
      "\n",
      "failed to get userDic, with Sammy D III\n",
      "failed to get userDic, with Mnair69\n",
      "failed to get userDic, with ScottishFinnishRadish\n",
      "failed to get userDic, with Hwy43\n",
      "failed to get userDic, with Iadmc\n",
      "failed to get userDic, with John M Wolfson\n",
      "failed to get userDic, with ILIL\n",
      "failed to get userDic, with Bilorv\n",
      "failed to get userDic, with MB\n",
      "failed to get userDic, with Acebulf\n",
      "failed to get userDic, with Austronesier\n",
      "failed to get userDic, with AhmadF.Cheema\n",
      "failed to get userDic, with Tokenzero\n",
      "failed to get userDic, with BhaskaraPattelar\n"
     ]
    },
    {
     "name": "stderr",
     "output_type": "stream",
     "text": [
      "368it [00:02, 170.51it/s]"
     ]
    },
    {
     "name": "stdout",
     "output_type": "stream",
     "text": [
      "failed to get userDic, with SerChevalerie\n",
      "failed to get userDic, with Vice regent\n",
      "failed to get userDic, with Kart2401real\n",
      "failed to get userDic, with Binksternet\n",
      "failed to get userDic, with Dharmabumstead\n",
      "failed to get userDic, with Ianmacm\n",
      "failed to get userDic, with Kvng\n",
      "failed to get userDic, with Aquegg\n",
      "failed to get userDic, with SPECIFICO\n",
      "failed to get userDic, with Samboy\n",
      "failed to get userDic, with Sbelknap\n",
      "failed to get userDic, with Attic Salt\n",
      "failed to get userDic, with MPants at work\n",
      "failed to get userDic, with Futhark\n",
      "failed to get userDic, with EEng#s\n",
      "failed to get userDic, with Oknazevad\n",
      "failed to get userDic, with BarrelProof\n",
      "failed to get userDic, with 2407:7000:9BC3:C800:A111:F246:3AB6:3EDD\n"
     ]
    },
    {
     "name": "stderr",
     "output_type": "stream",
     "text": [
      "386it [00:02, 160.18it/s]"
     ]
    },
    {
     "name": "stdout",
     "output_type": "stream",
     "text": [
      "failed to get userDic, with MaxBrowne2\n",
      "failed to get userDic, with Cobblet\n",
      "failed to get userDic, with Brittle heaven\n",
      "failed to get userDic, with Bruce leverett\n",
      "failed to get userDic, with Seggallion\n",
      "failed to get userDic, with RockabillyRaccoon\n",
      "failed to get userDic, with CJ-Moki\n",
      "failed to get userDic, with ImaginesTigers\n",
      "failed to get userDic, with Susmuffin\n",
      "failed to get userDic, with Fad Ariff\n",
      "failed to get userDic, with Cessaune\n",
      "failed to get userDic, with Otr500\n",
      "failed to get userDic, with Oncamera\n",
      "failed to get userDic, with Belregard\n",
      "failed to get userDic, with 127(point)0(point)0(point)1\n",
      "failed to get userDic, with Stuartyeates\n",
      "failed to get userDic, with Balon Greyjoy\n"
     ]
    },
    {
     "name": "stderr",
     "output_type": "stream",
     "text": [
      "403it [00:02, 160.63it/s]"
     ]
    },
    {
     "name": "stdout",
     "output_type": "stream",
     "text": [
      "failed to get userDic, with NekoKatsun\n",
      "failed to get userDic, with Sennalen\n",
      "failed to get userDic, with Premeditated Chaos\n",
      "failed to get userDic, with Mattximus\n",
      "failed to get userDic, with LaetusStudiis\n",
      "failed to get userDic, with SusanLesch\n",
      "failed to get userDic, with Alsee\n",
      "failed to get userDic, with Hammersoft\n",
      "failed to get userDic, with HouseBlaster\n",
      "failed to get userDic, with Asukite\n",
      "failed to get userDic, with Kusma\n",
      "failed to get userDic, with Jclemens\n",
      "failed to get userDic, with Casualdejekyll\n",
      "failed to get userDic, with Patar knight\n",
      "failed to get userDic, with EchidnaLives\n",
      "failed to get userDic, with SmokeyJoe\n",
      "failed to get userDic, with Filelakeshoe\n",
      "failed to get userDic, with Crystallizedcarbon\n",
      "failed to get userDic, with Certes\n",
      "failed to get userDic, with Bermicourt\n",
      "failed to get userDic, with Bakkster Man\n",
      "failed to get userDic, with VickKiang\n"
     ]
    },
    {
     "name": "stderr",
     "output_type": "stream",
     "text": [
      "424it [00:02, 172.09it/s]"
     ]
    },
    {
     "name": "stdout",
     "output_type": "stream",
     "text": [
      "failed to get userDic, with Calton\n",
      "failed to get userDic, with BristolTreeHouse\n",
      "failed to get userDic, with Dpleibovitz\n",
      "failed to get userDic, with Retswerb\n",
      "failed to get userDic, with ElKevbo\n",
      "failed to get userDic, with Dicklyonfailed to get userDic, with Severestorm28\n",
      "failed to get userDic, with Comatmebro\n",
      "\n",
      "failed to get userDic, with 20thCenturyBorn\n",
      "failed to get userDic, with WWGB\n",
      "failed to get userDic, with Timb66\n",
      "failed to get userDic, with Afterwriting\n",
      "failed to get userDic, with לילך5\n",
      "failed to get userDic, with Geraldo Perez\n",
      "failed to get userDic, with Trans-Neptunian object\n",
      "failed to get userDic, with Cullen328\n",
      "failed to get userDic, with Golden Matrix\n",
      "failed to get userDic, with Btonuk\n"
     ]
    },
    {
     "name": "stderr",
     "output_type": "stream",
     "text": [
      "442it [00:02, 137.82it/s]"
     ]
    },
    {
     "name": "stdout",
     "output_type": "stream",
     "text": [
      "failed to get userDic, with Mindfullyact\n",
      "failed to get userDic, with HiLo48\n",
      "failed to get userDic, with Polyamorph\n",
      "failed to get userDic, with BeReasonabl\n",
      "failed to get userDic, with Alanscottwalker\n",
      "failed to get userDic, with Coconutyou3\n",
      "failed to get userDic, with Drmies\n",
      "failed to get userDic, with MixedButHumann\n",
      "failed to get userDic, with Mugsalot\n",
      "failed to get userDic, with El C\n",
      "failed to get userDic, with Optra2020\n",
      "failed to get userDic, with Sr 76\n",
      "failed to get userDic, with Winged Blades of Godric\n",
      "failed to get userDic, with Dan56\n",
      "failed to get userDic, with NewYorkActuary\n"
     ]
    },
    {
     "name": "stderr",
     "output_type": "stream",
     "text": [
      "458it [00:02, 141.09it/s]"
     ]
    },
    {
     "name": "stdout",
     "output_type": "stream",
     "text": [
      "failed to get userDic, with AndrewOne\n",
      "failed to get userDic, with Lawrencekhoo\n",
      "failed to get userDic, with Jack Sebastian\n",
      "failed to get userDic, with Wolfson5\n",
      "failed to get userDic, with Meatsgains\n",
      "failed to get userDic, with ReverendWayne\n",
      "failed to get userDic, with Lapadite77\n",
      "failed to get userDic, with Levivich\n",
      "failed to get userDic, with Ezhao02\n",
      "failed to get userDic, with Jeff6045\n",
      "failed to get userDic, with 삭은사과\n",
      "failed to get userDic, with Helper201\n",
      "failed to get userDic, with Edit5001\n",
      "failed to get userDic, with -AsianFire-\n",
      "failed to get userDic, with Bacondrum\n",
      "failed to get userDic, with Aixaurinoko\n"
     ]
    },
    {
     "name": "stderr",
     "output_type": "stream",
     "text": [
      "474it [00:02, 144.10it/s]"
     ]
    },
    {
     "name": "stdout",
     "output_type": "stream",
     "text": [
      "failed to get userDic, with Novem Linguae\n",
      "failed to get userDic, with BD2412\n",
      "failed to get userDic, with Joe Roe\n",
      "failed to get userDic, with Kudpung\n",
      "failed to get userDic, with DoubleGrazing\n",
      "failed to get userDic, with Gusfriend\n",
      "failed to get userDic, with Hellknowz\n",
      "failed to get userDic, with Thingofme\n",
      "failed to get userDic, with No such user\n",
      "failed to get userDic, with Stiflefailed to get userDic, with Mhawk10\n",
      "\n",
      "failed to get userDic, with Espresso Addict\n",
      "failed to get userDic, with Jontesta\n",
      "failed to get userDic, with Herostratus\n",
      "failed to get userDic, with The Blade of the Northern Lights\n",
      "failed to get userDic, with JPxG\n",
      "failed to get userDic, with Clovermoss"
     ]
    },
    {
     "name": "stderr",
     "output_type": "stream",
     "text": [
      "490it [00:02, 137.45it/s]"
     ]
    },
    {
     "name": "stdout",
     "output_type": "stream",
     "text": [
      "\n",
      "failed to get userDic, with Reywas92\n",
      "failed to get userDic, with Visviva\n",
      "failed to get userDic, with Lugnuts\n",
      "failed to get userDic, with Chris troutman\n",
      "failed to get userDic, with Phil Bridger\n",
      "failed to get userDic, with Krantler\n",
      "failed to get userDic, with Extraordinary Writfailed to get userDic, with SnowFire\n",
      "\n",
      "failed to get userDic, with Scope creep\n"
     ]
    },
    {
     "name": "stderr",
     "output_type": "stream",
     "text": [
      "500it [00:05, 83.37it/s] \n"
     ]
    },
    {
     "ename": "KeyboardInterrupt",
     "evalue": "",
     "output_type": "error",
     "traceback": [
      "\u001b[0;31m---------------------------------------------------------------------------\u001b[0m",
      "\u001b[0;31mIndexError\u001b[0m                                Traceback (most recent call last)",
      "File \u001b[0;32m~/anaconda3/envs/test_env/lib/python3.9/multiprocessing/pool.py:853\u001b[0m, in \u001b[0;36mIMapIterator.next\u001b[0;34m(self, timeout)\u001b[0m\n\u001b[1;32m    852\u001b[0m \u001b[39mtry\u001b[39;00m:\n\u001b[0;32m--> 853\u001b[0m     item \u001b[39m=\u001b[39m \u001b[39mself\u001b[39;49m\u001b[39m.\u001b[39;49m_items\u001b[39m.\u001b[39;49mpopleft()\n\u001b[1;32m    854\u001b[0m \u001b[39mexcept\u001b[39;00m \u001b[39mIndexError\u001b[39;00m:\n",
      "\u001b[0;31mIndexError\u001b[0m: pop from an empty deque",
      "\nDuring handling of the above exception, another exception occurred:\n",
      "\u001b[0;31mKeyboardInterrupt\u001b[0m                         Traceback (most recent call last)",
      "Cell \u001b[0;32mIn[20], line 2\u001b[0m\n\u001b[1;32m      1\u001b[0m \u001b[39mfrom\u001b[39;00m \u001b[39muserinformation\u001b[39;00m \u001b[39mimport\u001b[39;00m getUserInfoToJSON\n\u001b[0;32m----> 2\u001b[0m getUserInfoToJSON(user_list, \u001b[39m\"\u001b[39;49m\u001b[39m../json_files/user_info/users.json\u001b[39;49m\u001b[39m\"\u001b[39;49m)\n",
      "File \u001b[0;32m~/wiki_delib/data_cleaning/userinformation.py:191\u001b[0m, in \u001b[0;36mgetUserInfoToJSON\u001b[0;34m(userArray, output)\u001b[0m\n\u001b[1;32m    187\u001b[0m \u001b[39m\u001b[39m\u001b[39m\"\"\"\u001b[39;00m\n\u001b[1;32m    188\u001b[0m \u001b[39mTakes list of users outputs list of JSON objects containing wiki projects, user rights, edit count, registration and first comment dates\u001b[39;00m\n\u001b[1;32m    189\u001b[0m \u001b[39m\"\"\"\u001b[39;00m \n\u001b[1;32m    190\u001b[0m \u001b[39mwith\u001b[39;00m multiprocessing\u001b[39m.\u001b[39mPool(processes\u001b[39m=\u001b[39m\u001b[39m7\u001b[39m) \u001b[39mas\u001b[39;00m pool:\n\u001b[0;32m--> 191\u001b[0m     results \u001b[39m=\u001b[39m \u001b[39mlist\u001b[39;49m(tqdm\u001b[39m.\u001b[39;49mtqdm(pool\u001b[39m.\u001b[39;49mimap(worker, userArray)))\n\u001b[1;32m    192\u001b[0m     \u001b[39mwith\u001b[39;00m \u001b[39mopen\u001b[39m(output, \u001b[39m'\u001b[39m\u001b[39mw\u001b[39m\u001b[39m'\u001b[39m) \u001b[39mas\u001b[39;00m file:\n\u001b[1;32m    193\u001b[0m         json\u001b[39m.\u001b[39mdump(\u001b[39mlist\u001b[39m(results), file)\n",
      "File \u001b[0;32m~/anaconda3/envs/test_env/lib/python3.9/site-packages/tqdm/std.py:1195\u001b[0m, in \u001b[0;36mtqdm.__iter__\u001b[0;34m(self)\u001b[0m\n\u001b[1;32m   1192\u001b[0m time \u001b[39m=\u001b[39m \u001b[39mself\u001b[39m\u001b[39m.\u001b[39m_time\n\u001b[1;32m   1194\u001b[0m \u001b[39mtry\u001b[39;00m:\n\u001b[0;32m-> 1195\u001b[0m     \u001b[39mfor\u001b[39;00m obj \u001b[39min\u001b[39;00m iterable:\n\u001b[1;32m   1196\u001b[0m         \u001b[39myield\u001b[39;00m obj\n\u001b[1;32m   1197\u001b[0m         \u001b[39m# Update and possibly print the progressbar.\u001b[39;00m\n\u001b[1;32m   1198\u001b[0m         \u001b[39m# Note: does not call self.update(1) for speed optimisation.\u001b[39;00m\n",
      "File \u001b[0;32m~/anaconda3/envs/test_env/lib/python3.9/multiprocessing/pool.py:858\u001b[0m, in \u001b[0;36mIMapIterator.next\u001b[0;34m(self, timeout)\u001b[0m\n\u001b[1;32m    856\u001b[0m     \u001b[39mself\u001b[39m\u001b[39m.\u001b[39m_pool \u001b[39m=\u001b[39m \u001b[39mNone\u001b[39;00m\n\u001b[1;32m    857\u001b[0m     \u001b[39mraise\u001b[39;00m \u001b[39mStopIteration\u001b[39;00m \u001b[39mfrom\u001b[39;00m \u001b[39mNone\u001b[39m\n\u001b[0;32m--> 858\u001b[0m \u001b[39mself\u001b[39;49m\u001b[39m.\u001b[39;49m_cond\u001b[39m.\u001b[39;49mwait(timeout)\n\u001b[1;32m    859\u001b[0m \u001b[39mtry\u001b[39;00m:\n\u001b[1;32m    860\u001b[0m     item \u001b[39m=\u001b[39m \u001b[39mself\u001b[39m\u001b[39m.\u001b[39m_items\u001b[39m.\u001b[39mpopleft()\n",
      "File \u001b[0;32m~/anaconda3/envs/test_env/lib/python3.9/threading.py:312\u001b[0m, in \u001b[0;36mCondition.wait\u001b[0;34m(self, timeout)\u001b[0m\n\u001b[1;32m    310\u001b[0m \u001b[39mtry\u001b[39;00m:    \u001b[39m# restore state no matter what (e.g., KeyboardInterrupt)\u001b[39;00m\n\u001b[1;32m    311\u001b[0m     \u001b[39mif\u001b[39;00m timeout \u001b[39mis\u001b[39;00m \u001b[39mNone\u001b[39;00m:\n\u001b[0;32m--> 312\u001b[0m         waiter\u001b[39m.\u001b[39;49macquire()\n\u001b[1;32m    313\u001b[0m         gotit \u001b[39m=\u001b[39m \u001b[39mTrue\u001b[39;00m\n\u001b[1;32m    314\u001b[0m     \u001b[39melse\u001b[39;00m:\n",
      "\u001b[0;31mKeyboardInterrupt\u001b[0m: "
     ]
    }
   ],
   "source": [
    "from userinformation import getUserInfoToJSON\n",
    "getUserInfoToJSON(user_list, \"../json_files/user_info/users.json\")"
   ]
  },
  {
   "cell_type": "code",
   "execution_count": 15,
   "id": "0dafd10a-80b8-416b-92ab-01120826d5ff",
   "metadata": {},
   "outputs": [],
   "source": [
    "comment_df = pd.read_csv('rfc_comments.csv')"
   ]
  },
  {
   "cell_type": "code",
   "execution_count": 17,
   "id": "9bf9b14d-eada-49b8-a981-290eb9c5e08d",
   "metadata": {},
   "outputs": [],
   "source": [
    "# group the dataframe by class and sample 65 rows from each group\n",
    "df_labelling = comment_df.groupby('project').apply(lambda x: x.sample(65)).reset_index(drop=True)"
   ]
  },
  {
   "cell_type": "code",
   "execution_count": 18,
   "id": "65021394-5b23-4769-bb27-e7918822905c",
   "metadata": {},
   "outputs": [],
   "source": [
    "# Define a function to generate URLs based on page IDs\n",
    "def get_wikipedia_url(row):\n",
    "    page_id = row['page_id']\n",
    "    project = row['project']\n",
    "    return f'https://{project}.org/wiki?curid={page_id}'\n",
    "\n",
    "# Apply the function to the page_id column and assign the result to a new column\n",
    "df_labelling['page_url'] = df_labelling.apply(get_wikipedia_url, axis = 1)"
   ]
  },
  {
   "cell_type": "code",
   "execution_count": 19,
   "id": "f27755cb-df48-4493-9535-a985264b4224",
   "metadata": {},
   "outputs": [],
   "source": [
    "# Create a list of strings to add as new columns\n",
    "new_cols = [ 'disrespect','respect','explanation','causal_reasoning','narrative', 'question', 'response', 'advocacy', 'public_interest','counterarguments', 'constructive_proposal']\n",
    "\n",
    "# Add the new columns to the DataFrame\n",
    "for col in new_cols:\n",
    "    df_labelling[col] = ''"
   ]
  },
  {
   "cell_type": "code",
   "execution_count": 20,
   "id": "0490176b-ad05-4e47-9c7e-57a4b2fe3c20",
   "metadata": {},
   "outputs": [],
   "source": [
    "df_labelling = df_labelling.drop([\"date\",\"section\",\"page_id\", \"rfc_id\", \"parent_id\", \"language\"], axis=1)"
   ]
  },
  {
   "cell_type": "code",
   "execution_count": 21,
   "id": "3dc13718-3144-456e-a47f-d0dd1dc0c2dd",
   "metadata": {},
   "outputs": [
    {
     "name": "stdout",
     "output_type": "stream",
     "text": [
      "\n",
      "CSV String:\n",
      " None\n"
     ]
    }
   ],
   "source": [
    "# saving the DataFrame as a CSV file\n",
    "gfg_csv_data = df_labelling.to_csv('label_rfc_statements.csv', index = False)\n",
    "print('\\nCSV String:\\n', gfg_csv_data) "
   ]
  }
 ],
 "metadata": {
  "kernelspec": {
   "display_name": "Python 3 (ipykernel)",
   "language": "python",
   "name": "python3"
  },
  "language_info": {
   "codemirror_mode": {
    "name": "ipython",
    "version": 3
   },
   "file_extension": ".py",
   "mimetype": "text/x-python",
   "name": "python",
   "nbconvert_exporter": "python",
   "pygments_lexer": "ipython3",
   "version": "3.9.16"
  }
 },
 "nbformat": 4,
 "nbformat_minor": 5
}
