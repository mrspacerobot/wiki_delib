{
 "cells": [
  {
   "cell_type": "code",
   "execution_count": 26,
   "id": "697c414c-af86-43e3-a6ae-133df6a9d6fb",
   "metadata": {},
   "outputs": [],
   "source": [
    "import data_cleaning\n",
    "import json\n",
    "import pandas as pd\n",
    "from langdetect import detect\n",
    "import re\n",
    "from tqdm import tqdm\n",
    "import mwparserfromhell as mw"
   ]
  },
  {
   "cell_type": "code",
   "execution_count": 27,
   "id": "38116672-25fb-495d-af60-83216526e29b",
   "metadata": {},
   "outputs": [],
   "source": [
    "wikipedia_parsed = \"../../data/json_files/grawitas_output/wikipedia_parsed.json\"\n",
    "wikidata_parsed = \"../../data/json_files/grawitas_output/wikidata_parsed.json\"\n",
    "meta_parsed = \"../../data/json_files/grawitas_output/meta_parsed.json\"\n",
    "with open(wikipedia_parsed) as f:\n",
    "        wikipedia_list_of_dicts = json.load(f)  \n",
    "f.close()\n",
    "\n",
    "with open(wikidata_parsed) as f:\n",
    "        wikidata_list_of_dicts = json.load(f) \n",
    "f.close()       \n",
    "with open(meta_parsed) as f:\n",
    "        meta_list_of_dicts = json.load(f)  \n",
    "f.close()"
   ]
  },
  {
   "cell_type": "code",
   "execution_count": 28,
   "id": "ca8d0720",
   "metadata": {},
   "outputs": [],
   "source": [
    "meta_list_of_dicts = [page for page in meta_list_of_dicts if page[\"page_text\"] is not None]\n",
    "meta_list_of_dicts = [page for page in meta_list_of_dicts if type(page[\"page_text\"]) is list]"
   ]
  },
  {
   "cell_type": "code",
   "execution_count": 29,
   "id": "f23526e2",
   "metadata": {},
   "outputs": [],
   "source": [
    "wikipedia_list_of_dicts = [page for page in wikipedia_list_of_dicts if page[\"page_text\"] is not None]\n",
    "wikipedia_list_of_dicts = [page for page in wikipedia_list_of_dicts if type(page[\"page_text\"]) is list]"
   ]
  },
  {
   "cell_type": "code",
   "execution_count": 30,
   "id": "38c33a0e",
   "metadata": {},
   "outputs": [],
   "source": [
    "wikidata_list_of_dicts = [page for page in wikidata_list_of_dicts if page[\"page_text\"] is not None]\n",
    "wikidata_list_of_dicts = [page for page in wikidata_list_of_dicts if type(page[\"page_text\"]) is list]"
   ]
  },
  {
   "cell_type": "code",
   "execution_count": 31,
   "id": "c150ed13-c51d-4a86-bfd9-b673dfc5e9c6",
   "metadata": {},
   "outputs": [],
   "source": [
    "wiki_comments, wiki_rfc = data_cleaning.get_RFC_Comment_Table(wikipedia_list_of_dicts, wikidata_list_of_dicts, meta_list_of_dicts)"
   ]
  },
  {
   "cell_type": "code",
   "execution_count": 32,
   "id": "1ddd61c9-b4bd-40fb-986c-097150c6bfc0",
   "metadata": {},
   "outputs": [],
   "source": [
    "comment_df = pd.json_normalize(wiki_comments, \"page_text\", [\"page_title\",\"page_id\"])"
   ]
  },
  {
   "cell_type": "code",
   "execution_count": 33,
   "id": "bfa3faae-8e6f-4e25-9779-cbdf2c99505b",
   "metadata": {},
   "outputs": [],
   "source": [
    "rfc_df = pd.json_normalize(wiki_rfc)"
   ]
  },
  {
   "attachments": {},
   "cell_type": "markdown",
   "id": "b1c3ff65",
   "metadata": {},
   "source": [
    "## Get Closing Date Info"
   ]
  },
  {
   "cell_type": "code",
   "execution_count": 34,
   "id": "947ce3e4",
   "metadata": {},
   "outputs": [],
   "source": [
    "with open(\"../../data/json_files/rfc_pages/meta.json\") as f:\n",
    "    meta = json.load(f)"
   ]
  },
  {
   "cell_type": "code",
   "execution_count": 35,
   "id": "4d66d502",
   "metadata": {},
   "outputs": [],
   "source": [
    "for page in meta:\n",
    "    text = page['page_text']\n",
    "    wikicode = mw.parse(text)\n",
    "    rfc_templates = wikicode.filter_templates(matches=lambda template: template.name.matches(\"rfc subpage\"))\n",
    "    #comment_value = rfc_templates[0].get(\"comment\").value.strip()\n",
    "    if \"date\" in rfc_templates[0]:\n",
    "        date_value = rfc_templates[0].get(\"date\").value.strip()\n",
    "        rfc_df.loc[rfc_df['page_id'] == page['page_id'], 'closing_date'] = date_value\n"
   ]
  },
  {
   "cell_type": "code",
   "execution_count": 36,
   "id": "d0218868",
   "metadata": {},
   "outputs": [],
   "source": [
    "with open(\"../../data/json_files/rfc_pages/wikidata.json\") as f:\n",
    "    wikidata = json.load(f)"
   ]
  },
  {
   "cell_type": "code",
   "execution_count": 37,
   "id": "5c5e15d1",
   "metadata": {},
   "outputs": [
    {
     "name": "stdout",
     "output_type": "stream",
     "text": [
      "[\"{{discussion top|'''I belive that we have reach now a strong concensus: pages of all namespaces exept User: are allowed into Wikidata''' [[User:Tpt|Tpt]] ([[User talk:Tpt|talk]]) 16:08, 1 February 2013 (UTC) }}\"]\n",
      "[]\n",
      "['{{Discussion top|Archived, see [[Wikidata:Project chat]] for a summary of what has come out of this. [[User:Ajraddatz|Ajraddatz]] <small>([[User Talk:Ajraddatz|Talk]])</small> 18:42, 22 January 2013 (UTC)}}']\n",
      "['{{discussion top|Duplicate of [[Wikidata:Requests for comment/Items for Wikimedia projects besides Wikipedia]]. Please discuss this there. [[User:Legoktm|Legoktm]] ([[User talk:Legoktm|talk]]) 20:42, 1 May 2013 (UTC)}}']\n",
      "[\"{{discussion top| This RFC has generated no comment, and the proposer also did not receive a response to a similar query/suggestion on Project Chat ([[Wikidata:Project_chat/Archive/2013/02|February archive]]). Clearly the community has had little response to the suggestion, which may have been viewed as outside the scope of Wikidata, and/or not technically feasible using Wikidata software and resources at this time. The proposer is encouraged to spend more time on Wikidata to develop a sense of the project's current priorities and what the software can actually achieve, as well as its inclusion criteria. [[User:Espeso|Espeso]] ([[User talk:Espeso|talk]]) 01:52, 10 March 2013 (UTC)}}\"]\n",
      "[\"{{Discussion top|Discussion is stale without a clear outcome. This does not preclude future discussion on the matter; however, currently there's no clear consensus in favor of anything.--[[User:Jasper Deng|Jasper Deng]] ([[User talk:Jasper Deng|talk]]) 07:54, 22 June 2013 (UTC)}}\"]\n",
      "[]\n",
      "['{{Discussion top|1=As this RFC has been open for a month with little participation in the past week, I am closing it with the following consensuses:\\n::*Talk pages of any sort shall not be the subjects of Wikidata items.\\n::*Special pages are generally excluded, with the exception of [[Q6293548]].\\n::*MediaWiki namespace pages shall not be the subjects of Wikidata items.\\n::*There should not be items for local files that are already available on Commons. However, there is \\'\\'\\'no consensus\\'\\'\\' as to whether or not there should be items for files that cannot be uploaded to Commons; therefore such items will be allowed until and unless there is a future consensus that they should not be.\\n::*There is a general opposition toward excluding pages found in namespaces that are not available on all wikis. These items remain eligible for inclusion on Wikidata.\\n::Finally, I note that so far the community has allowed [[WD:UCS|case-by-case exceptions]] to be made, usually through discussion on [[WT:N]]. I see nothing in this RFC that would proclude the continuance of that tradition, so it should be understood that none of these categorical decisions should overrule future consensuses supporting the inclusion of specific items in the now-excluded namespaces.\\'\\'\\' —&nbsp;[[User:PinkAmpersand|<u><font color=\"000\">PinkAmpers</font></u>]]\\'\\'\\'[[User talk:PinkAmpersand|\\'\\'\\'<u><font color=\"FF1493\">&#38;</font></u>\\'\\'\\'<font color=\"000\"><sup>(<u>\\'\\'Je vous invite à me parler\\'\\'</u>)</sup></font>]] 06:34, 9 April 2013 (UTC)}}']\n",
      "[]\n",
      "[]\n",
      "[]\n",
      "[]\n",
      "['{{discussion top}}', \"{{discussion top|Clear consensus for a piece of software to be termed as a '''work'''.--[[User:Jasper Deng|Jasper Deng]] ([[User talk:Jasper Deng|talk]]) 07:21, 22 June 2013 (UTC)}}\", '{{discussion top|Consensus is to add all (officially) supported operating systems.--[[User:Jasper Deng|Jasper Deng]] ([[User talk:Jasper Deng|talk]]) 07:30, 22 June 2013 (UTC)}}', '{{discussion top|Java is simply not an operating system, both according to its Wikipedia articles and the below discussion. No comments on listing all operating systems for Java.--[[User:Jasper Deng|Jasper Deng]] ([[User talk:Jasper Deng|talk]]) 07:26, 22 June 2013 (UTC)}}', '{{discussion top|Windows is a valid operating system, per below and its Wikipedia article.--[[User:Jasper Deng|Jasper Deng]] ([[User talk:Jasper Deng|talk]]) 07:29, 22 June 2013 (UTC)}}', \"{{discussion top|Insufficient discussion materialized for this - closed as '''no consensus.'''--[[User:Jasper Deng|Jasper Deng]] ([[User talk:Jasper Deng|talk]]) 07:33, 22 June 2013 (UTC)}}\", \"{{discussion top|There is '''no consensus''' for any of the proposals.--[[User:Jasper Deng|Jasper Deng]] ([[User talk:Jasper Deng|talk]]) 07:37, 22 June 2013 (UTC)}}\"]\n",
      "[\"{{Discussion top|1=A clear policy about bureaucratship has been drafted by consensus, I'll implement it into [[wikidata:bureaucrats]] within some hours.--[[User:Vituzzu|Vituzzu]] ([[User talk:Vituzzu|talk]]) 20:40, 12 April 2013 (UTC)}}\"]\n",
      "['{{discussion top|I am closing this RFC with the following consensus\\n:::* \\'\\'\\'Wikidata is to Adopt the full metawiki translation admin policy including the approval procedure\\'\\'\\'\\n::Regards \\'\\'\\'[[User:Addshore|<span style=\"color:black;\">·Add§hore·</span>]]\\'\\'\\' <sup>[[User_talk:Addshore|<span style=\"color:black;\">T<small>alk</small> T<small>o</small> M<small>e</small>!</span>]]</sup> 21:28, 14 April 2013 (UTC)}}']\n",
      "[\"{{discussion top|There is currently no consensus, after two weeks of discussion, to implement a right-to-vanish policy. Some are opposing over the lack of specific details in the policy that was originally included in the bureaucrat policy (and was subsequently removed pending this RfC). Some are opposing over the usefulness of such a mechanism and/or its effects on Wikidata. Therefore, a RTV policy is '''not enacted''' for now.--[[User:Jasper Deng|Jasper Deng]] ([[User talk:Jasper Deng|talk]]) 00:20, 28 April 2013 (UTC)}}\"]\n",
      "[]\n",
      "[]\n",
      "['{{Discussion top|1=The drafted policy above is to be adopted. <b><span style=\"border:2px solid;font-variant:small-caps\">[[User:Hazard-SJ|<span style=\"background:#00008B;color:#FFF\">&nbsp;Hazard-SJ&nbsp;</span>]][[User talk:Hazard-SJ|<span style=\"color:#00008B;background:red\">&nbsp;✈&nbsp;</span>]]</span></b> 03:54, 25 April 2013 (UTC)}}', '{{Discussion top|1=Community consensus leans towards having adminship as a prerequisite for the oversight right. <b><span style=\"border:2px solid;font-variant:small-caps\">[[User:Hazard-SJ|<span style=\"background:#00008B;color:#FFF\">&nbsp;Hazard-SJ&nbsp;</span>]][[User talk:Hazard-SJ|<span style=\"color:#00008B;background:red\">&nbsp;✈&nbsp;</span>]]</span></b> 03:34, 25 April 2013 (UTC)}}', '{{Discussion top|1=This was a fairly close discussion, but considering there are more opposes for 85% and at least one more explicitly stated support for 80%, the requirements are a minimum of 80% support, of which there must be at least 25 supporting votes. <b><span style=\"border:2px solid;font-variant:small-caps\">[[User:Hazard-SJ|<span style=\"background:#00008B;color:#FFF\">&nbsp;Hazard-SJ&nbsp;</span>]][[User talk:Hazard-SJ|<span style=\"color:#00008B;background:red\">&nbsp;✈&nbsp;</span>]]</span></b> 02:19, 2 May 2013 (UTC)}}', '{{Discussion top|1=Bureaucrats will evaluate requests regarding the granting or removing of oversight access. <b><span style=\"border:2px solid;font-variant:small-caps\">[[User:Hazard-SJ|<span style=\"background:#00008B;color:#FFF\">&nbsp;Hazard-SJ&nbsp;</span>]][[User talk:Hazard-SJ|<span style=\"color:#00008B;background:red\">&nbsp;✈&nbsp;</span>]]</span></b> 03:05, 25 April 2013 (UTC)}}', '{{Discussion top|1=According to consensus, 1 week is insufficient for requests for oversight access. <b><span style=\"border:2px solid;font-variant:small-caps\">[[User:Hazard-SJ|<span style=\"background:#00008B;color:#FFF\">&nbsp;Hazard-SJ&nbsp;</span>]][[User talk:Hazard-SJ|<span style=\"color:#00008B;background:red\">&nbsp;✈&nbsp;</span>]]</span></b> 03:26, 25 April 2013 (UTC)}}', '{{Discussion top|1=For a request to be considered successful, it must remain open for no less than 2 weeks. <b><span style=\"border:2px solid;font-variant:small-caps\">[[User:Hazard-SJ|<span style=\"background:#00008B;color:#FFF\">&nbsp;Hazard-SJ&nbsp;</span>]][[User talk:Hazard-SJ|<span style=\"color:#00008B;background:red\">&nbsp;✈&nbsp;</span>]]</span></b> 03:28, 25 April 2013 (UTC)}}', '{{Discussion top|1=There is more consensus that if Wikidata elects local oversighters, there must be at least two users holding the right at any given time. <b><span style=\"border:2px solid;font-variant:small-caps\">[[User:Hazard-SJ|<span style=\"background:#00008B;color:#FFF\">&nbsp;Hazard-SJ&nbsp;</span>]][[User talk:Hazard-SJ|<span style=\"color:#00008B;background:red\">&nbsp;✈&nbsp;</span>]]</span></b> 02:07, 2 May 2013 (UTC)}}', '{{Discussion top|1=There are no restrictions as it relates to the maximum number of users with the oversight right. <b><span style=\"border:2px solid;font-variant:small-caps\">[[User:Hazard-SJ|<span style=\"background:#00008B;color:#FFF\">&nbsp;Hazard-SJ&nbsp;</span>]][[User talk:Hazard-SJ|<span style=\"color:#00008B;background:red\">&nbsp;✈&nbsp;</span>]]</span></b> 04:04, 25 April 2013 (UTC)}}', '{{Discussion top|1=Requests for the removal of the oversight right should be considered successful if the votes supporting the removal request is at least 1/3. <b><span style=\"border:2px solid;font-variant:small-caps\">[[User:Hazard-SJ|<span style=\"background:#00008B;color:#FFF\">&nbsp;Hazard-SJ&nbsp;</span>]][[User talk:Hazard-SJ|<span style=\"color:#00008B;background:red\">&nbsp;✈&nbsp;</span>]]</span></b> 03:21, 25 April 2013 (UTC)}}', '{{Discussion top|1=Users with the oversight right will not undergo periodic reconfirmations, but rather, will retain the right indefinitely unless it has been voluntarily resigned, if the community votes in favor of the removal (to be determined via above discussions), or if the holder of the right is deemed \"inactive\". <b><span style=\"border:2px solid;font-variant:small-caps\">[[User:Hazard-SJ|<span style=\"background:#00008B;color:#FFF\">&nbsp;Hazard-SJ&nbsp;</span>]][[User talk:Hazard-SJ|<span style=\"color:#00008B;background:red\">&nbsp;✈&nbsp;</span>]]</span></b> 03:17, 25 April 2013 (UTC)}}', '{{Discussion top|1=There is no consensus for annual reelection/reconfirmation of users with the oversight right. <b><span style=\"border:2px solid;font-variant:small-caps\">[[User:Hazard-SJ|<span style=\"background:#00008B;color:#FFF\">&nbsp;Hazard-SJ&nbsp;</span>]][[User talk:Hazard-SJ|<span style=\"color:#00008B;background:red\">&nbsp;✈&nbsp;</span>]]</span></b> 03:10, 25 April 2013 (UTC)}}', '{{Discussion top|1=All oversight requests will be handled by the local team, and not by stewards. Stewards may, however, be used for gaining advice as to whether of not content should be oversighted (or unoversighted, for that matter). <b><span style=\"border:2px solid;font-variant:small-caps\">[[User:Hazard-SJ|<span style=\"background:#00008B;color:#FFF\">&nbsp;Hazard-SJ&nbsp;</span>]][[User talk:Hazard-SJ|<span style=\"color:#00008B;background:red\">&nbsp;✈&nbsp;</span>]]</span></b> 03:13, 26 April 2013 (UTC)}}']\n",
      "[\"{{discussion top|I'm closing this early because there have been no new arguments provided since the past discussions that covered this: [[Wikidata:Requests_for_comment/Inclusion_of_non-article_pages#User_pages|1]], [[Wikidata:Project_chat/Archive/2013/03#Why_an_Exception_on_User_pages.3F|2]], and more I couldn't find. [[User:Legoktm|Legoktm]] ([[User talk:Legoktm|talk]]) 03:58, 24 April 2013 (UTC)}}\"]\n",
      "['{{discussion top|Consensus is that [[Wikidata:Vandalism]] should be labeled as a guideline/information page, and there is no consensus whether it should be an official \"policy\" page. [[User:Legoktm|Legoktm]] ([[User talk:Legoktm|talk]]) 20:45, 1 May 2013 (UTC)}}']\n",
      "[]\n",
      "[]\n",
      "[]\n",
      "[]\n",
      "['{{discussion top|1=The results of this RfC are as follows:\\n* Disambiguation pages that differ only in capitalization may be merged, provided that each language only has one disambiguation page for those letters. For example, different languages have the disambiguation page for [[Q224743|car]] as either \"Car\" or \"CAR\", but no one language has pages for both \"Car\" and \"CAR\", so merging is acceptable. On the other hand, different languages have the disambiguation page for arc as either \"[[Q398045|Arc]]\" or \"[[Q296474|ARC]]\", but some languages have pages for both \"Arc\" and \"ARC\", so merging is disallowed. \\n* Disambiguation pages that differ only in punctuation (apostrophe, dash, full stop, colon, space, etc.) may be merged, provided that each language only has one disambiguation page for those letters. For example, [[Q416425|boogie-woogie]] is expressed in some languages with the dash and in some languages without it. Because no one language has a page for boogie-woogie and one for boogiewoogie, merging is allowed.\\n* There is no consensus for the third point, merging different forms of the same words.\\n* There was insufficient participation to form a consensus around any resolution to the stated issue with Chinese and Japanese Wikipedia\\'s disambiguation pages with different spellings but the same pronunciation. \\nClosed by: [[User:Sven Manguard|<span style=\"color:#207004\">\\'\\'\\'<span style=\"font-size:115%\">S</span>ven <span style=\"font-size:115%\">M</span>anguard\\'\\'\\'</span>]] [[User talk:Sven Manguard|<small><span style=\"color:#F0A804\">\\'\\'\\'Wha?\\'\\'\\'</span></small>]] 07:45, 22 June 2013 (UTC)}}']\n",
      "[]\n",
      "['{{discussion top|1= I didn\\'t expect this to be an easy close, and I don\\'t expect that this close is going to go over smoothly, but here goes: Bureaucrats \\'\\'\\'will not\\'\\'\\' be able to desysop at this time. Ultimately, major user rights changes require a clear consensus and, in the absence of such a consensus, the status quo is not changed. Even if we discount entirely the comments made by the stewards and others that have not spent any significant amount of time on the project, support for the change is still only around 66%. However, while there has been significant push-back on this project, on Meta, and over IRC against what is seen as meddling by a small number of Stewards, and even more significant push-back at the perceived messages behind some of those comments, I am not about to entirely disregard the opinions of people who, active on this project or not, have the authorization of the broader WMF project community to act on this project, not just because of their community derived authority, but also because of the experience, and hopefully wisdom, that comes from having reached that point. Finally, when looking at the arguments made on either side of the debate, the arguments on the opposing side are generally better laid out and stronger, while many supporters aren\\'t giving rationales at all. \\n\\nIn summary:\\n* A raw vote count gives the support at a meager 56%. A vote count that discounts the votes of \\'drive-by commenters\\' does\\'t bring it any higher than the mid 60s.\\n* The strength of argument is stronger for the opposition than for the supporters.\\n* A clear consensus is needed to enact user right changes. Even if this was left open for another month, I doubt that we\\'d see a consensus develop, and certainly not one in support. \\n\\nTherefore I am closing this as \\'\\'\\'no change/unsuccessful\\'\\'\\'. If you want to discuss this further, you know where to find me. [[User:Sven Manguard|<span style=\"color:#207004\">\\'\\'\\'<span style=\"font-size:115%\">S</span>ven <span style=\"font-size:115%\">M</span>anguard\\'\\'\\'</span>]] [[User talk:Sven Manguard|<small><span style=\"color:#F0A804\">\\'\\'\\'Wha?\\'\\'\\'</span></small>]] 03:27, 15 May 2013 (UTC)\\n}}', '{{discussion top|1=Unlike the proposal above, there\\'s a very clear consensus for this one. Bureaucrats will not be allowed to decrat at this time. [[User:Sven Manguard|<span style=\"color:#207004\">\\'\\'\\'<span style=\"font-size:115%\">S</span>ven <span style=\"font-size:115%\">M</span>anguard\\'\\'\\'</span>]] [[User talk:Sven Manguard|<small><span style=\"color:#F0A804\">\\'\\'\\'Wha?\\'\\'\\'</span></small>]] 02:05, 15 May 2013 (UTC)}}']\n",
      "[]\n",
      "['{{Discussion top|1=There seem to be no consensus for any changes, so I\\'m closing this as {{not done|not done}}. <b><span style=\"border:2px solid;font-variant:small-caps\">[[User:Hazard-SJ|<span style=\"background:#00008B;color:#FFF\">&nbsp;Hazard-SJ&nbsp;</span>]][[User talk:Hazard-SJ|<span style=\"color:#00008B;background:red\">&nbsp;✈&nbsp;</span>]]</span></b> 03:56, 1 June 2013 (UTC)}}']\n",
      "[]\n",
      "[]\n",
      "['{{discussion top|There is no clear consensus regarding anything concerning the time datatypes, and there\\'s been no discussion here in almost two months. [[User talk:TCN7JM|<font color=\"blue\" face=\"Tahoma\">T</font>]][[Special:Contributions/TCN7JM|<font color=\"red\" face=\"Tahoma\">C</font>]][[User:TCN7JM|<font color=\"gray\" face=\"Tahoma\">N7</font><font color=\"black\" face=\"Tahoma\">JM</font>]] 23:10, 1 August 2013 (UTC)}}']\n",
      "[]\n",
      "[]\n",
      "[]\n",
      "[]\n",
      "[]\n",
      "[]\n",
      "[\"{{discussion top|The discussion is over since about a year so I'm closing this RFC now without a clear result. If we need further clarification or a guide line on this topic, a new RFC should be created. -- [[User:Bene*|Bene*]] [[User talk:Bene*|<sup>t</sup><sub>a</sub><sup>l</sup><sub>k</sub>]] 11:08, 11 April 2015 (UTC)}}\"]\n",
      "[]\n",
      "[]\n",
      "[]\n",
      "[]\n",
      "[]\n",
      "[]\n",
      "[]\n",
      "[]\n",
      "[]\n",
      "[]\n",
      "[]\n",
      "[]\n",
      "[]\n",
      "[]\n",
      "[]\n",
      "[]\n",
      "[]\n",
      "[]\n",
      "[]\n",
      "[]\n",
      "[]\n",
      "['{{Discussion top|\\nClosing this RFC over a year after last comment. The following are the results of the RFC:\\n* items that are instances of {{Q|4167836}} can use {{P|360}} to indicate the primary item (class) that is covered by that category, with qualifiers to allow automatic generation of a list. (See [[#Proposal 1 - Categories]] and [[#Update: one year on]] - One year further on there remain a large number of categories using {{P|360}}  in this way).\\n* If there is one wikidata item that links to both class pages and list pages on different wikis, that is ok; it should be labeled by the class with an appropriate {{P|279}} statement and should \\'\\'\\'not\\'\\'\\' be indicated as {{P|31}} {{Q|13406463}}. However, it is also ok to have two separate items, one for the list and one for the class, which should then be linked with {{P|360}}.  (See [[#Lists are classes]] ).\\n[[User:ArthurPSmith|ArthurPSmith]] ([[User talk:ArthurPSmith|<span class=\"signature-talk\">{{int:Talkpagelinktext}}</span>]]) 15:32, 15 April 2016 (UTC)\\n}}']\n",
      "['{{Discussion top|\\nClosing this RFC as obsolete. See [[#Still active ?]] on this page (from over 6 months ago). A number of wikidata UI elements have already changed since this proposal was introduced. External ids, part of the discussion here, have also now been implemented.\\n\\n[[User:ArthurPSmith|ArthurPSmith]] ([[User talk:ArthurPSmith|<span class=\"signature-talk\">{{int:Talkpagelinktext}}</span>]]) 19:53, 15 April 2016 (UTC)\\n}}']\n",
      "['{{Discussion top|\\nClosing this RFC. While there was much discussion, there was no specific proposal on which there was any consensus, and there has been little activity for almost two years (and none for over 6 months). Note that the English property name has been changed (to \"applies to jurisdiction\"). Also a large number of examples have been provided on {{P|1001}} that clarify its purpose; it is also used in constraints on other properties and elsewhere so changing its meaning at this point would be disruptive. Therefore I believe the discussion below is essentially obsolete with regard to the current status of the property.\\n\\n[[User:ArthurPSmith|ArthurPSmith]] ([[User talk:ArthurPSmith|<span class=\"signature-talk\">{{int:Talkpagelinktext}}</span>]]) 20:23, 15 April 2016 (UTC)\\n}}']\n",
      "[]\n",
      "[]\n",
      "['{{Discussion top|stale --[[User:Pasleim|Pasleim]] ([[User talk:Pasleim|<span class=\"signature-talk\">{{int:Talkpagelinktext}}</span>]]) 09:20, 20 August 2016 (UTC)}}']\n",
      "['{{discussion top|some new property lists were created, for an overview see {{tl|Property lists}}}}']\n",
      "['{{Discussion top|stale, user blocked. <br/>--- [[User talk:Jura1|Jura]] 09:17, 20 August 2016 (UTC)}}']\n",
      "[]\n",
      "[]\n",
      "['{{Discussion top|stale --[[User:Pasleim|Pasleim]] ([[User talk:Pasleim|<span class=\"signature-talk\">{{int:Talkpagelinktext}}</span>]]) 09:12, 20 August 2016 (UTC)}}']\n",
      "[]\n",
      "['{{discussion top|\\nClosing this RFC with the following results:\\n* 5 admin/crat actions over 6 months are the minimum to not be considered inactive.\\n* There is no reprieve, and any administrator not meeting the inactivity standard should lose all flags under the scope of this policy, upon request to stewards (or to local crats if applicable).\\n* There is no option to regain administrator/bureaucrat access besides applying again using the usual process.\\n\\nCheers, [[User:Bene*|Bene*]] [[User talk:Bene*|<sup>t</sup><sub>a</sub><sup>l</sup><sub>k</sub>]] 17:14, 31 March 2015 (UTC)\\n}}']\n",
      "['{{Discussion top|stale --[[User:Pasleim|Pasleim]] ([[User talk:Pasleim|<span class=\"signature-talk\">{{int:Talkpagelinktext}}</span>]]) 09:11, 20 August 2016 (UTC)}}']\n",
      "['{{Discussion top|no consensus --[[User:Pasleim|Pasleim]] ([[User talk:Pasleim|<span class=\"signature-talk\">{{int:Talkpagelinktext}}</span>]]) 09:09, 20 August 2016 (UTC)}}']\n",
      "['{{Discussion top|Help:Classification (in the current wording) will not be adapted as an official help page. --[[User:Pasleim|Pasleim]] ([[User talk:Pasleim|<span class=\"signature-talk\">{{int:Talkpagelinktext}}</span>]]) 09:07, 20 August 2016 (UTC)}}']\n",
      "[]\n",
      "['{{Discussion top|no consensus --[[User:Pasleim|Pasleim]] ([[User talk:Pasleim|<span class=\"signature-talk\">{{int:Talkpagelinktext}}</span>]]) 08:33, 20 August 2016 (UTC)}}']\n",
      "[]\n",
      "[]\n",
      "['{{Discussion top|stale --[[User:Pasleim|Pasleim]] ([[User talk:Pasleim|<span class=\"signature-talk\">{{int:Talkpagelinktext}}</span>]]) 09:03, 20 August 2016 (UTC)}}']\n",
      "[]\n",
      "['{{Discussion top|no consensus--[[User:Pasleim|Pasleim]] ([[User talk:Pasleim|<span class=\"signature-talk\">{{int:Talkpagelinktext}}</span>]]) 09:02, 20 August 2016 (UTC)}}']\n",
      "['{{Discussion top|stale --[[User:Pasleim|Pasleim]] ([[User talk:Pasleim|<span class=\"signature-talk\">{{int:Talkpagelinktext}}</span>]]) 08:35, 20 August 2016 (UTC)}}']\n",
      "['{{Discussion top|stale --[[User:Pasleim|Pasleim]] ([[User talk:Pasleim|<span class=\"signature-talk\">{{int:Talkpagelinktext}}</span>]]) 08:50, 20 August 2016 (UTC)}}']\n",
      "['{{Discussion top|stale, not transcluded in summary page. Maybe Project Chat or the talk page of the WikiProject is more likely to get you an answer. --- [[User talk:Jura1|Jura]] 20 August 2016 (UTC)}}']\n",
      "['{{Discussion top|\\nClosing this RFC with the following results:\\n*Bots importing from Wikipedia should add in addition to {{P|143}} also {{P|854}} with the value of the full URL  and either {{P|813}} or include the version id of the source page in the full URL. \\n*Bots with a new source for an existing statement should add it as a new source, rather than create a new statement.\\n--[[User:Pasleim|Pasleim]] ([[User talk:Pasleim|<span class=\"signature-talk\">{{int:Talkpagelinktext}}</span>]]) 18:58, 13 April 2016 (UTC)\\n}}']\n",
      "['{{Discussion top|stale, not transcluded in summary page. --- [[User talk:Jura1|Jura]] 20 August 2016 (UTC)}}']\n",
      "['{{Discussion top|consensus to keep two items --[[User:Pasleim|Pasleim]] ([[User talk:Pasleim|<span class=\"signature-talk\">{{int:Talkpagelinktext}}</span>]]) 18:43, 13 April 2016 (UTC)}}']\n",
      "['{{Discussion top|see [[phab:T127950]] --[[User:Pasleim|Pasleim]] ([[User talk:Pasleim|<span class=\"signature-talk\">{{int:Talkpagelinktext}}</span>]]) 08:41, 20 August 2016 (UTC)}}']\n",
      "['{{Discussion top|stale --[[User:Pasleim|Pasleim]] ([[User talk:Pasleim|<span class=\"signature-talk\">{{int:Talkpagelinktext}}</span>]]) 08:43, 20 August 2016 (UTC)}}']\n",
      "['{{Discussion top|stale, not transcluded in summary page. Generally, items for such are created based on criterion #3, not #1. --- [[User talk:Jura1|Jura]] 20 August 2016 (UTC)}}']\n",
      "['{{Discussion top|\\nClosing this RFC with the following results:\\n*Creating properties counts as an administrative action, for the purposes of fulfilling the activity requirement. ([[# Admin activity]])\\n*Users should not create properties when they have proposed that property. ([[#Recusal (3)]])\\n*Only users who have the ability to create properties should close property creation proposals, i.e. setting status to done, not done or withdrawn. ([[#Discussions]])\\n*Property creator right must be only granted following a request on [[Wikidata:Requests for permissions/Other rights]] which must remain open for at least 48 hours. An exception may be made for the case of regranting of the right to former property creators and administrators where the reason for removal was uncontroversial or due to inactivity. ([[#Granting the right]]; [[#Regranting]])\\n*Users creating properties are expected to reply promptly and civilly to concerns about their actions. Repeated failure to do so may result in removal of the right, subject to the usual procedures. ([[#Accountability]])\\n--[[User:Pasleim|Pasleim]] ([[User talk:Pasleim|<span class=\"signature-talk\">{{int:Talkpagelinktext}}</span>]]) 18:32, 13 April 2016 (UTC)\\n}}']\n",
      "['{{Discussion top|\\nClosing this RFC with the following results:\\n*Creating properties counts as an administrative action, for the purposes of fulfilling the activity requirement. ([[# Admin activity]])\\n*Users should not create properties when they have proposed that property. ([[#Recusal (3)]])\\n*Only users who have the ability to create properties should close property creation proposals, i.e. setting status to done, not done or withdrawn. ([[#Discussions]])\\n*Property creator right must be only granted following a request on [[Wikidata:Requests for permissions/Other rights]] which must remain open for at least 48 hours. An exception may be made for the case of regranting of the right to former property creators and administrators where the reason for removal was uncontroversial or due to inactivity. ([[#Granting the right]]; [[#Regranting]])\\n*Users creating properties are expected to reply promptly and civilly to concerns about their actions. Repeated failure to do so may result in removal of the right, subject to the usual procedures. ([[#Accountability]])\\n--[[User:Pasleim|Pasleim]] ([[User talk:Pasleim|<span class=\"signature-talk\">{{int:Talkpagelinktext}}</span>]]) 18:32, 13 April 2016 (UTC)\\n}}']\n",
      "['{{Discussion top|\\nClosing this RFC with the following results:\\n*Creating properties counts as an administrative action, for the purposes of fulfilling the activity requirement. ([[# Admin activity]])\\n*Users should not create properties when they have proposed that property. ([[#Recusal (3)]])\\n*Only users who have the ability to create properties should close property creation proposals, i.e. setting status to done, not done or withdrawn. ([[#Discussions]])\\n*Property creator right must be only granted following a request on [[Wikidata:Requests for permissions/Other rights]] which must remain open for at least 48 hours. An exception may be made for the case of regranting of the right to former property creators and administrators where the reason for removal was uncontroversial or due to inactivity. ([[#Granting the right]]; [[#Regranting]])\\n*Users creating properties are expected to reply promptly and civilly to concerns about their actions. Repeated failure to do so may result in removal of the right, subject to the usual procedures. ([[#Accountability]])\\n--[[User:Pasleim|Pasleim]] ([[User talk:Pasleim|<span class=\"signature-talk\">{{int:Talkpagelinktext}}</span>]]) 18:32, 13 April 2016 (UTC)\\n}}']\n",
      "['{{Discussion top|\\nClosing this RFC with the following results:\\n*Creating properties counts as an administrative action, for the purposes of fulfilling the activity requirement. ([[# Admin activity]])\\n*Users should not create properties when they have proposed that property. ([[#Recusal (3)]])\\n*Only users who have the ability to create properties should close property creation proposals, i.e. setting status to done, not done or withdrawn. ([[#Discussions]])\\n*Property creator right must be only granted following a request on [[Wikidata:Requests for permissions/Other rights]] which must remain open for at least 48 hours. An exception may be made for the case of regranting of the right to former property creators and administrators where the reason for removal was uncontroversial or due to inactivity. ([[#Granting the right]]; [[#Regranting]])\\n*Users creating properties are expected to reply promptly and civilly to concerns about their actions. Repeated failure to do so may result in removal of the right, subject to the usual procedures. ([[#Accountability]])\\n--[[User:Pasleim|Pasleim]] ([[User talk:Pasleim|<span class=\"signature-talk\">{{int:Talkpagelinktext}}</span>]]) 18:32, 13 April 2016 (UTC)\\n}}']\n",
      "['{{Discussion top|\\nClosing this RFC with the following results:\\n*Creating properties counts as an administrative action, for the purposes of fulfilling the activity requirement. ([[# Admin activity]])\\n*Users should not create properties when they have proposed that property. ([[#Recusal (3)]])\\n*Only users who have the ability to create properties should close property creation proposals, i.e. setting status to done, not done or withdrawn. ([[#Discussions]])\\n*Property creator right must be only granted following a request on [[Wikidata:Requests for permissions/Other rights]] which must remain open for at least 48 hours. An exception may be made for the case of regranting of the right to former property creators and administrators where the reason for removal was uncontroversial or due to inactivity. ([[#Granting the right]]; [[#Regranting]])\\n*Users creating properties are expected to reply promptly and civilly to concerns about their actions. Repeated failure to do so may result in removal of the right, subject to the usual procedures. ([[#Accountability]])\\n--[[User:Pasleim|Pasleim]] ([[User talk:Pasleim|<span class=\"signature-talk\">{{int:Talkpagelinktext}}</span>]]) 18:32, 13 April 2016 (UTC)\\n}}']\n",
      "['{{Discussion top|\\nClosing this RFC with the following results:\\n*Creating properties counts as an administrative action, for the purposes of fulfilling the activity requirement. ([[# Admin activity]])\\n*Users should not create properties when they have proposed that property. ([[#Recusal (3)]])\\n*Only users who have the ability to create properties should close property creation proposals, i.e. setting status to done, not done or withdrawn. ([[#Discussions]])\\n*Property creator right must be only granted following a request on [[Wikidata:Requests for permissions/Other rights]] which must remain open for at least 48 hours. An exception may be made for the case of regranting of the right to former property creators and administrators where the reason for removal was uncontroversial or due to inactivity. ([[#Granting the right]]; [[#Regranting]])\\n*Users creating properties are expected to reply promptly and civilly to concerns about their actions. Repeated failure to do so may result in removal of the right, subject to the usual procedures. ([[#Accountability]])\\n--[[User:Pasleim|Pasleim]] ([[User talk:Pasleim|<span class=\"signature-talk\">{{int:Talkpagelinktext}}</span>]]) 18:32, 13 April 2016 (UTC)\\n}}']\n",
      "['{{Discussion top|stale --<br/>--- [[User talk:Jura1|Jura]] 15:39, 21 November 2016 (UTC) }}']\n",
      "['{{Discussion top|stale <br/>--- [[User talk:Jura1|Jura]] 15:34, 21 November 2016 (UTC)}}']\n",
      "['{{Discussion top|\\n:\\'\\'\\'A\\'\\'\\': consensus to keep current wording, i.e. property proposal should be open for a minimum of 7 days.\\n::the third voting option received more supporting votes than opposing votes but a majority of users is favoring the current wording.\\n:\\'\\'\\'B\\'\\'\\': consensus to keep current practice, i.e. property creators are allowed to close a proposal when they were involved in the discussion.\\n:\\'\\'\\'C\\'\\'\\': does not apply as no new policy is created.\\n--[[User:Pasleim|Pasleim]] ([[User talk:Pasleim|<span class=\"signature-talk\">{{int:Talkpagelinktext}}</span>]]) 14:54, 19 August 2016 (UTC)}}']\n",
      "['{{Discussion top|consensus to introduce the following eligibility requirement for voters:\\n*Users must have at least 100 local non-automated edits in order to vote in an RfP.\\n*A user must meet the voting eligibility requirement before the RfP starts in order to vote in that RfP.\\n--[[User:Pasleim|Pasleim]] ([[User talk:Pasleim|<span class=\"signature-talk\">{{int:Talkpagelinktext}}</span>]]) 15:05, 19 August 2016 (UTC)}}']\n",
      "['{{Discussion top|no changes to current practice --[[User:Pasleim|Pasleim]] ([[User talk:Pasleim|<span class=\"signature-talk\">{{int:Talkpagelinktext}}</span>]]) 08:34, 20 August 2016 (UTC)}}']\n",
      "['{{Discussion top|consensus to add the current picture of the day to {{Q|14334596}} --[[User:Pasleim|Pasleim]] ([[User talk:Pasleim|<span class=\"signature-talk\">{{int:Talkpagelinktext}}</span>]]) 21:16, 11 January 2017 (UTC)}}']\n",
      "['{{Discussion top|result=The below discussion was closed on 7 December 2016\\u200e by Alessandro Piscopo with the summary \"Sufficient feedback received\" [https://www.wikidata.org/w/index.php?title=Wikidata:Requests_for_comment&diff=prev&oldid=414762527]. Meaning ? <br/>--- [[User talk:Jura1|Jura]] 10:33, 12 December 2016 (UTC)\\n}}']\n",
      "['{{Discussion top|stale <br/>--- [[User talk:Jura1|Jura]] 15:38, 21 November 2016 (UTC)}}']\n",
      "['{{Discussion top|consensus to replace {{P|7}} and {{P|9}} with a new sibling property --[[User:Pasleim|Pasleim]] ([[User talk:Pasleim|<span class=\"signature-talk\">{{int:Talkpagelinktext}}</span>]]) 18:02, 11 December 2016 (UTC)}}', '{{Discussion top|no consensus to merge {{P|22}} and {{P|25}} --[[User:Pasleim|Pasleim]] ([[User talk:Pasleim|<span class=\"signature-talk\">{{int:Talkpagelinktext}}</span>]]) 21:27, 11 January 2017 (UTC)}}', '{{Discussion top|consensus to replace {{P|43}} and {{P|44}} with a new stepparent property --[[User:Pasleim|Pasleim]] ([[User talk:Pasleim|<span class=\"signature-talk\">{{int:Talkpagelinktext}}</span>]]) 21:27, 11 January 2017 (UTC)}}']\n",
      "['{{Discussion top|Sufficient feedback received [[User:DBrant (WMF)|DBrant (WMF)]] ([[User talk:DBrant (WMF)|<span class=\"signature-talk\">{{int:Talkpagelinktext}}</span>]]) 15:09, 5 December 2016 (UTC)}}']\n",
      "['{{Discussion top|\\n*to add a new language to monolingual text properties, follow [[Help:Monolingual text languages]]\\n*to add a new label language, [[translatewiki:FAQ#How to add a new language|add it to MediaWiki]] --[[User:Pasleim|Pasleim]] ([[User talk:Pasleim|<span class=\"signature-talk\">{{int:Talkpagelinktext}}</span>]]) 21:23, 11 January 2017 (UTC)}}']\n",
      "[]\n",
      "['{{Discussion top|P171 has only to be used for closest parent taxon of the taxon in question but exception might be made if the closest parent taxon is not known or multiple reliable sources claim different things. --[[User:Pasleim|Pasleim]] ([[User talk:Pasleim|<span class=\"signature-talk\">{{int:Talkpagelinktext}}</span>]]) 17:09, 29 September 2018 (UTC)}}']\n",
      "[\"{{Discussion top|Technical issue, RFC not needed. RfC's don't decide about the development agenda of WMDE. If you want to request a new technical feature it makes more sense to write a phabricator ticket and/or wait till it's community wishlist season.  [[User:ChristianKl|ChristianKl]] ([[User talk:ChristianKl|✉]]) 19:22, 5 December 2017 (UTC) }}\"]\n",
      "['{{Discussion top|Nothing to discuss here. [[User:Matěj Suchánek|Matěj Suchánek]] ([[User talk:Matěj Suchánek|<span class=\"signature-talk\">{{int:Talkpagelinktext}}</span>]]) 13:06, 27 March 2017 (UTC)}}']\n",
      "[\"{{Discussion top|Technical issue, RFC not needed. RfC's don't decide about the development agenda of WMDE. If you want to request a new technical feature it makes more sense to write a phabricator ticket and/or wait till it's community wishlist season. [[User:ChristianKl|ChristianKl]] ([[User talk:ChristianKl|✉]]) 19:25, 5 December 2017 (UTC) }}\"]\n",
      "['{{Discussion top|no conclusion reached --[[User:Pasleim|Pasleim]] ([[User talk:Pasleim|<span class=\"signature-talk\">{{int:Talkpagelinktext}}</span>]]) 17:16, 29 September 2018 (UTC)}}']\n",
      "['{{discussion top|Well, this is a difficult one, since there are good arguments from both sides. In short, I see a strong numerical advantage (factor of 3) and slightly better argumentation of those who want to allow addition of redirects. I would call this \\'\\'\\'consensus to add redirects to Wikidata items\\'\\'\\'.\\n\\n\\'\\'\\'However\\'\\'\\', there are very strong issues surrounding this conclusion, some of which have been discussed properly, and some have been mentioned but not properly discussed.\\n* I would say there is also \\'\\'\\'consensus\\'\\'\\' that not all redirects should be added to Wikidata, but only those redirects which help to solve existing problems are welcome. Indiscriminate addition of redirects, and, even worse, creation of redirects followed by their indiscriminate addition, is clearly not welcome and probably will be considered as disruption. This argument was raised by both supporters and opposers, and has not been convincingly rebutted.\\n** Given that we currently have no mechanism of redirect addition (except for twice moving articles on the projects, which is a clear disruption and I am sure will be perceived as such on the projects), before the phabricator task can be opened we need to discuss some policies on when redirects can be added, by whom and how. These questions were not properly addressed in this RfC. For example, one suggestion was that redirects must be added in such a way that constraint violations are not created, however, there was no proper discussion of this point.\\n* There was also a suggestion that redirects must be clearly visible and discriminated from other links. Ideally, they should not only be human-readable, but also bot-readable. Again, this needs to be discussed.\\n* I am sure during the implementation some other issues will surface out. Opposers point out to some of the issues (for example, read Lydia\\'s comment carefully). The more we can foresee before actually allowing the redirects, the easier it will be to implement the change, and the more conflicts we can avoid.--[[User:Ymblanter|Ymblanter]] ([[User talk:Ymblanter|<span class=\"signature-talk\">{{int:Talkpagelinktext}}</span>]]) 16:38, 6 November 2018 (UTC)}}']\n",
      "['{{Discussion top|use {{P|2670}} with quantity as qualifier --[[User:Pasleim|Pasleim]] ([[User talk:Pasleim|<span class=\"signature-talk\">{{int:Talkpagelinktext}}</span>]]) 17:21, 29 September 2018 (UTC)}}']\n",
      "['{{Discussion top|consensus to keep Findagrave as source --[[User:Pasleim|Pasleim]] ([[User talk:Pasleim|<span class=\"signature-talk\">{{int:Talkpagelinktext}}</span>]]) 17:31, 29 September 2018 (UTC)}}']\n",
      "['{{Discussion top|Consensus to keep IMDb as source --[[User:Pasleim|Pasleim]] ([[User talk:Pasleim|<span class=\"signature-talk\">{{int:Talkpagelinktext}}</span>]]) 17:38, 29 September 2018 (UTC)}}']\n",
      "['{{Discussion top|Asking for a gadget. {{User:PokestarFan/sig}} 13:04, 20 July 2017 (UTC)}}']\n",
      "[]\n",
      "[]\n",
      "['{{Discussion top|\\nconsensus has reached that\\n*bureaucrats are allowed to grant/remove account creator flags\\n*account creater flags should be granted for outreach/editathon events where accounts may need to be created en masse\\n*account creater flags do not have to be removed after the outreach/editathon event has ended.--[[User:Pasleim|Pasleim]] ([[User talk:Pasleim|<span class=\"signature-talk\">{{int:Talkpagelinktext}}</span>]]) 19:37, 23 January 2018 (UTC)\\n}}']\n",
      "['{{Discussion top|\\n*consensus is reached to turn [[Wikidata:Living persons (draft)]] into a policy except the definition of living people. Instead of the original text ([[#Definition of living_person]]) the alternate proposals ([[#Scope (alternate proposal)]], [[#Applicability (general) (alternate proposal)]], [[#Applicability to legal persons and groups (alternate proposal)]]) will be applied.\\n*consensus is reached to amend [[Wikidata:Blocking policy]] according to [[#Amending the blocking policy]]\\n*no consensus is reached to change [[Wikidata:Alternate accounts]]\\n*community does not issue a statement to welcome a bot which sends out user warning or deletes certain statements.}}']\n",
      "[]\n",
      "['{{Discussion top|stale --[[User:Pasleim|Pasleim]] ([[User talk:Pasleim|<span class=\"signature-talk\">{{int:Talkpagelinktext}}</span>]]) 19:59, 3 March 2021 (UTC)}}']\n",
      "['{{Discussion top|no consensus to change current pracitce --[[User:Pasleim|Pasleim]] ([[User talk:Pasleim|<span class=\"signature-talk\">{{int:Talkpagelinktext}}</span>]]) 19:53, 3 March 2021 (UTC)}}']\n",
      "['{{discussion top|See below}}']\n",
      "[]\n",
      "['{{Discussion top|stale --[[User:Pasleim|Pasleim]] ([[User talk:Pasleim|<span class=\"signature-talk\">{{int:Talkpagelinktext}}</span>]]) 19:56, 3 March 2021 (UTC)}}']\n",
      "['{{discussion top|Clear consensus to \\'\\'\\'adopt\\'\\'\\'. We have one objection against treating an action against an item as an action against the user, but the majority clearly thinks otherwise, and this is a yes/no question, so I do not see how a middle ground would be possible--[[User:Ymblanter|Ymblanter]] ([[User talk:Ymblanter|<span class=\"signature-talk\">{{int:Talkpagelinktext}}</span>]]) 08:14, 24 December 2018 (UTC)}}', '{{Discussion top|\\'\\'\\'No consensus\\'\\'\\' for this change: there are too many opposes, and their argument have not been rebutted.--[[User:Ymblanter|Ymblanter]] ([[User talk:Ymblanter|<span class=\"signature-talk\">{{int:Talkpagelinktext}}</span>]]) 16:17, 24 December 2018 (UTC)}}', '{{Discussion top|\\'\\'\\'No consensus\\'\\'\\' for this change either and unfortunately given too little attention--[[User:Ymblanter|Ymblanter]] ([[User talk:Ymblanter|<span class=\"signature-talk\">{{int:Talkpagelinktext}}</span>]]) 16:18, 24 December 2018 (UTC)}}', '{{Discussion top|consensus to \\'\\'\\'accept\\'\\'\\' --[[User:Pasleim|Pasleim]] ([[User talk:Pasleim|<span class=\"signature-talk\">{{int:Talkpagelinktext}}</span>]]) 13:04, 28 February 2019 (UTC)}}', '{{Discussion top|consensus to \\'\\'\\'accept\\'\\'\\' --[[User:Pasleim|Pasleim]] ([[User talk:Pasleim|<span class=\"signature-talk\">{{int:Talkpagelinktext}}</span>]]) 13:05, 28 February 2019 (UTC)}}', '{{Discussion top|stale --[[User:Pasleim|Pasleim]] ([[User talk:Pasleim|<span class=\"signature-talk\">{{int:Talkpagelinktext}}</span>]]) 13:06, 28 February 2019 (UTC)}}', '{{Discussion top|consensus to \\'\\'\\'accept\\'\\'\\' all paragraphs --[[User:Pasleim|Pasleim]] ([[User talk:Pasleim|<span class=\"signature-talk\">{{int:Talkpagelinktext}}</span>]]) 13:12, 28 February 2019 (UTC)}}', '{{Discussion top|consensus to \\'\\'\\'accept proposal 2\\'\\'\\' [[User:Pasleim|Pasleim]] ([[User talk:Pasleim|<span class=\"signature-talk\">{{int:Talkpagelinktext}}</span>]]) 13:14, 28 February 2019 (UTC)}}', '{{Discussion top|consensus to \\'\\'\\'accept\\'\\'\\' --[[User:Pasleim|Pasleim]] ([[User talk:Pasleim|<span class=\"signature-talk\">{{int:Talkpagelinktext}}</span>]]) 13:18, 28 February 2019 (UTC)}}', '{{Discussion top|consensus to \\'\\'\\'accept\\'\\'\\' --[[User:Pasleim|Pasleim]] ([[User talk:Pasleim|<span class=\"signature-talk\">{{int:Talkpagelinktext}}</span>]]) 13:18, 28 February 2019 (UTC)}}']\n",
      "['{{Discussion top|stale --[[User:Pasleim|Pasleim]] ([[User talk:Pasleim|<span class=\"signature-talk\">{{int:Talkpagelinktext}}</span>]]) 19:52, 3 March 2021 (UTC)}}']\n",
      "['{{Discussion top|consensus to change a rank from preferred to normal when an entity does not exist anymore. --[[User:Pasleim|Pasleim]] ([[User talk:Pasleim|<span class=\"signature-talk\">{{int:Talkpagelinktext}}</span>]]) 20:20, 3 March 2021 (UTC)}}']\n",
      "['{{Discussion top|stale --[[User:Pasleim|Pasleim]] ([[User talk:Pasleim|<span class=\"signature-talk\">{{int:Talkpagelinktext}}</span>]]) 20:10, 3 March 2021 (UTC)}}']\n",
      "['{{Discussion top|property was created. Discuss on the property talk page how to use that property. --[[User:Pasleim|Pasleim]] ([[User talk:Pasleim|<span class=\"signature-talk\">{{int:Talkpagelinktext}}</span>]]) 20:11, 3 March 2021 (UTC)}}']\n",
      "['{{Discussion top|\\'\\'\\'consensus to semi-protect all items used by 500 Wikimedia pages or more.\\'\\'\\' Semi-protection that is only justified by usage should be lifted once the item falls below the threshold. The criteria of Wikidata administrators about usage or visibility on Wikimedia projects may also be enough to semi-protect other items. --[[User:Pasleim|Pasleim]] ([[User talk:Pasleim|<span class=\"signature-talk\">{{int:Talkpagelinktext}}</span>]]) 12:31, 24 June 2019 (UTC)}}']\n",
      "['{{Discussion top|stale --[[User:Pasleim|Pasleim]] ([[User talk:Pasleim|<span class=\"signature-talk\">{{int:Talkpagelinktext}}</span>]]) 12:32, 24 June 2019 (UTC)}}']\n",
      "[]\n",
      "[]\n",
      "[]\n",
      "[]\n",
      "[]\n",
      "['{{discussion top|The original proposal by Olaf Kosinsky to allow paid contributions without disclosure was just supported by one user. The [[User:ChristianKl/Draft:Disclosure of paid editing|new proposal]] by ChristianKl was supported by six users. [[User:ChristianKl/Draft:Disclosure of paid editing]] is therefore adopted. --[[User:Ameisenigel|Ameisenigel]] ([[User talk:Ameisenigel|<span class=\"signature-talk\">{{int:Talkpagelinktext}}</span>]]) 06:47, 17 August 2022 (UTC)}}']\n",
      "['{{discussion top|Clear support for changing the model how we handle anonymous. I\\'ll update [[Wikidata:WikiProject_Visual_arts/Item_structure#Use_of_creator_(P170)_in_uncertain_cases]]. [[User:Multichill|Multichill]] ([[User talk:Multichill|<span class=\"signature-talk\">{{int:Talkpagelinktext}}</span>]]) 11:10, 30 May 2021 (UTC)}}']\n",
      "['{{discussion top|Policy tag added to the page. -- [[User:Ajraddatz|Ajraddatz]] ([[User Talk:Ajraddatz|talk]]) 15:19, 11 January 2023 (UTC)}}']\n",
      "['{{discussion top|\\'\\'\\'Option A\\'\\'\\': 3, \\'\\'\\'Option B\\'\\'\\': 2, \\'\\'\\'Option C\\'\\'\\': 7, \\'\\'\\'Option D\\'\\'\\': 3. A majority supports to \\'\\'Update items with Wikipedia articles whenever their subscriber count has changed by at least 10% or has surpassed a new factor of 10 milestone (100k, 1M, 10M, etc.); update other items once per year\\'\\'  --[[User:Ameisenigel|Ameisenigel]] ([[User talk:Ameisenigel|<span class=\"signature-talk\">{{int:Talkpagelinktext}}</span>]]) 08:30, 13 March 2022 (UTC)}}']\n",
      "[]\n",
      "['{{discussion top}}']\n"
     ]
    }
   ],
   "source": [
    "from datetime import datetime\n",
    "for page in wikidata:\n",
    "    text = page['page_text']\n",
    "    wikicode = mw.parse(text)\n",
    "    rfc_templates = wikicode.filter_templates(matches=lambda template: template.name.matches(\"discussion top\"))\n",
    "    #comment_value = rfc_templates[0].get(\"comment\").value.strip()\n",
    "    if not rfc_templates:\n",
    "        continue\n",
    "    if rfc_templates[0].params:\n",
    "        text = rfc_templates[0].params[0]\n",
    "    elif len(rfc_templates) == 2:\n",
    "        if rfc_templates[1].params:\n",
    "            text = rfc_templates[1].params[0]\n",
    "    else:\n",
    "        continue\n",
    "    date = re.search(r'\\d{2}:\\d{2}, \\d{1,2} \\w+ \\d{4} \\(UTC\\)', str(text))\n",
    "    if date:\n",
    "        # parse the input string into a datetime object\n",
    "        input_datetime = datetime.strptime(date.group(), \"%H:%M, %d %B %Y (%Z)\")\n",
    "\n",
    "        # format the datetime object in the desired output format\n",
    "        output_str = input_datetime.strftime(\"%Y-%m-%dT%H:%M:%SZ\")\n",
    "        if output_str:\n",
    "            rfc_df.loc[rfc_df['page_id'] == page['page_id'], 'closing_date'] = output_str\n",
    "    else: \n",
    "        continue"
   ]
  },
  {
   "cell_type": "code",
   "execution_count": 38,
   "id": "ac8de440",
   "metadata": {},
   "outputs": [],
   "source": [
    "with open(\"../../data/json_files/rfc_pages/wikipedia.json\") as f:\n",
    "    wikipedia = json.load(f)"
   ]
  },
  {
   "cell_type": "code",
   "execution_count": 39,
   "id": "4b664042",
   "metadata": {},
   "outputs": [],
   "source": [
    "from datetime import datetime\n",
    "for page in wikipedia:\n",
    "    text = page['page_text']\n",
    "    wikicode = mw.parse(text)\n",
    "    rfc_templates = wikicode.filter_templates(matches=lambda template: template.name.matches(\"closed rfc top\"))\n",
    "    #comment_value = rfc_templates[0].get(\"comment\").value.strip()\n",
    "    if not rfc_templates:\n",
    "        continue\n",
    "    if not rfc_templates[0].params:\n",
    "        continue\n",
    "    text = rfc_templates[0].params[0]\n",
    "    date = re.search(r'\\d{2}:\\d{2}, \\d{1,2} \\w+ \\d{4} \\(UTC\\)', str(text))\n",
    "    # parse the input string into a datetime object\n",
    "    if not date:\n",
    "        continue\n",
    "    input_datetime = datetime.strptime(date.group(), \"%H:%M, %d %B %Y (%Z)\")\n",
    "\n",
    "    # format the datetime object in the desired output format\n",
    "    output_str = input_datetime.strftime(\"%Y-%m-%dT%H:%M:%SZ\")\n",
    "    if output_str:\n",
    "        rfc_df.loc[rfc_df['page_id'] == page['page_id'], 'closing_date'] = output_str\n",
    "    "
   ]
  },
  {
   "attachments": {},
   "cell_type": "markdown",
   "id": "027909ff",
   "metadata": {},
   "source": [
    "## Convert Templates to readable text"
   ]
  },
  {
   "cell_type": "code",
   "execution_count": 40,
   "id": "3d4cc86e-7e73-4216-8309-daf8ca9ed8c8",
   "metadata": {},
   "outputs": [
    {
     "name": "stderr",
     "output_type": "stream",
     "text": [
      "100%|██████████| 98839/98839 [01:34<00:00, 1048.89it/s]\n"
     ]
    }
   ],
   "source": [
    "data_cleaning.templatesToReadableText(comment_df)"
   ]
  },
  {
   "attachments": {},
   "cell_type": "markdown",
   "id": "1d6cc849",
   "metadata": {},
   "source": [
    "## Remove all nonenglish comments and non text comments"
   ]
  },
  {
   "cell_type": "code",
   "execution_count": 41,
   "id": "af0b7b98-273d-47cf-ae92-6f1043e165ad",
   "metadata": {},
   "outputs": [],
   "source": [
    "def detectLanguage(text):\n",
    "    try:\n",
    "        return detect(text)\n",
    "    except:\n",
    "        regex = r\"(?i)\\b((?:https?://|www\\d{0,3}[.]|[a-z0-9.\\-]+[.][a-z]{2,4}/)(?:[^\\s()<>]+|\\(([^\\s()<>]+|(\\([^\\s()<>]+\\)))*\\))+(?:\\(([^\\s()<>]+|(\\([^\\s()<>]+\\)))*\\)|[^\\s`!()\\[\\]{};:'\\\".,<>?«»“”‘’]))\"\n",
    "        url = re.findall(regex, text)\n",
    "        if url:\n",
    "            return \"en\""
   ]
  },
  {
   "cell_type": "code",
   "execution_count": 42,
   "id": "7260b80d-c3f6-475e-8758-bb27a8ce660e",
   "metadata": {},
   "outputs": [
    {
     "name": "stderr",
     "output_type": "stream",
     "text": [
      "/tmp/ipykernel_9501/3506980960.py:9: FutureWarning: The default value of regex will change from True to False in a future version.\n",
      "  comment_df['text'] = comment_df['text'].str.replace(pattern, '')\n"
     ]
    }
   ],
   "source": [
    "# define regular expression pattern for matching non-word characters\n",
    "non_word_pattern = re.compile(r'^\\W*$')\n",
    "\n",
    "non_alpha_pattern = re.compile(r'^[^a-zA-Z]+$')\n",
    "\n",
    "# Define regex pattern\n",
    "pattern = \"\\s*15px(?:\\|[a-zA-Z]+=\\s*)?(?:\\|[a-zA-Z]+=)?(?:\\|[a-zA-Z]+\\s*)?\"\n",
    "\n",
    "comment_df['text'] = comment_df['text'].str.replace(pattern, '')\n",
    "\n",
    "# filter dataframe to remove rows that contain only non-alpha characters\n",
    "comment_df = comment_df[~comment_df['text'].str.contains(non_alpha_pattern)]\n",
    "\n",
    "# filter dataframe to remove rows that contain only non-word characters\n",
    "comment_df = comment_df[~comment_df['text'].str.contains(non_word_pattern)]"
   ]
  },
  {
   "cell_type": "code",
   "execution_count": 43,
   "id": "ad26fb85-1afb-490a-a2ce-aca1424e3142",
   "metadata": {},
   "outputs": [
    {
     "name": "stderr",
     "output_type": "stream",
     "text": [
      "100%|██████████| 97690/97690 [13:18<00:00, 122.28it/s]\n"
     ]
    }
   ],
   "source": [
    "tqdm.pandas()\n",
    "# Add a new column to the DataFrame indicating the language of the text\n",
    "comment_df['language'] = comment_df['text'].progress_apply(detectLanguage)\n",
    "\n",
    "comment_df = comment_df[comment_df['language'] == 'en']"
   ]
  },
  {
   "attachments": {},
   "cell_type": "markdown",
   "id": "b6038f70",
   "metadata": {},
   "source": [
    "## Saving data to csv files"
   ]
  },
  {
   "cell_type": "code",
   "execution_count": 44,
   "id": "456c5be2-7a97-4d89-af1a-b11c5c109594",
   "metadata": {},
   "outputs": [
    {
     "name": "stdout",
     "output_type": "stream",
     "text": [
      "\n",
      "CSV String:\n",
      " None\n"
     ]
    }
   ],
   "source": [
    "gfg_csv_data = rfc_df.to_csv('../../data/rfc.csv', index = False)\n",
    "print('\\nCSV String:\\n', gfg_csv_data)"
   ]
  },
  {
   "cell_type": "code",
   "execution_count": 45,
   "id": "19e771c9-55d4-4d24-b311-4f5d600bedae",
   "metadata": {},
   "outputs": [
    {
     "name": "stdout",
     "output_type": "stream",
     "text": [
      "\n",
      "CSV String:\n",
      " None\n"
     ]
    }
   ],
   "source": [
    "comment_df.loc[50754,'date'] = '2022-03-22T23:36:00Z'\n",
    "gfg_csv_data = comment_df.to_csv('../../data/rfc_comments.csv', index = False)\n",
    "print('\\nCSV String:\\n', gfg_csv_data)"
   ]
  }
 ],
 "metadata": {
  "kernelspec": {
   "display_name": "Python 3 (ipykernel)",
   "language": "python",
   "name": "python3"
  },
  "language_info": {
   "codemirror_mode": {
    "name": "ipython",
    "version": 3
   },
   "file_extension": ".py",
   "mimetype": "text/x-python",
   "name": "python",
   "nbconvert_exporter": "python",
   "pygments_lexer": "ipython3",
   "version": "3.9.16"
  }
 },
 "nbformat": 4,
 "nbformat_minor": 5
}
