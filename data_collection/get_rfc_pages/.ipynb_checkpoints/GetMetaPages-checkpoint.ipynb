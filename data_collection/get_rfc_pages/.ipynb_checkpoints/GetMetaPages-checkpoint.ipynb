{
 "cells": [
  {
   "cell_type": "code",
   "execution_count": 3,
   "id": "1bfebf9f-cbb6-4485-9bba-22f34c7d1708",
   "metadata": {},
   "outputs": [],
   "source": [
    "import pywikibot\n",
    "import json\n",
    "import re\n",
    "from pywikibot import pagegenerators as pg\n",
    "import mwparserfromhell"
   ]
  },
  {
   "cell_type": "code",
   "execution_count": 4,
   "id": "73ccc0e3-180f-4e4f-8b24-59a8d712e61e",
   "metadata": {},
   "outputs": [],
   "source": [
    "def list_template_usage(site_obj, tmpl_name):\n",
    "    \"\"\"\n",
    "    Takes Site object and template name and returns a generator.\n",
    "\n",
    "    The function expects a Site object (pywikibot.Site()) and\n",
    "    a template name (String). It creates a list of all\n",
    "    pages using that template and returns them as a generator.\n",
    "    It only returns pages in the 121-namespace (property-talk-pages).\n",
    "    The generator will load 50 pages at a time for iteration.\n",
    "    \"\"\"\n",
    "    name = \"{}:{}\".format(site.namespace(10), tmpl_name)\n",
    "    tmpl_page = pywikibot.Page(site, name)\n",
    "    ref_gen = tmpl_page.getReferences(follow_redirects=False)\n",
    "    #filter_gen = pg.NamespaceFilterPageGenerator(ref_gen, namespaces=[121])\n",
    "    generator = site.preloadpages(ref_gen, pageprops=True)\n",
    "    return generator\n",
    "\n",
    "def gather_template_usage(generator, template_name, completedDiscussionProperty=None, completedDiscussionPropertyValue=None, header=None):\n",
    "    \"\"\"\n",
    "    Takes a generator and a template name and returns usage list.\n",
    "\n",
    "    The function can also take a header (list of strings) that will be\n",
    "    the headers of the table (Needs to be the same dimension as the table).\n",
    "    The first column needs to be a link to property (It will be made into\n",
    "    a link. In this example the second column is a list of links to Q-items.\n",
    "    \"\"\"\n",
    "    tmpl_usage = []\n",
    "    dic_json_list = []\n",
    "    if header != None:\n",
    "        tmpl_usage.append(header)\n",
    "    page_title_list = []\n",
    "    for page in generator:\n",
    "        page_str = page.get()\n",
    "        tmpl_list = pywikibot.textlib.extract_templates_and_params(page_str)\n",
    "\n",
    "        for tmpl in tmpl_list:\n",
    "            if template_name in tmpl:\n",
    "                if completedDiscussionProperty and tmpl[1]:\n",
    "                    dic = tmpl[1]\n",
    "                    if completedDiscussionProperty in dic:\n",
    "                        if dic[completedDiscussionProperty] == completedDiscussionPropertyValue:\n",
    "                            page_title = page.title()\n",
    "                            page_id = page.pageid\n",
    "                            dic_json = {\"page_id\" : page_id, \"page_title\" : page_title, \"page_text\" : page_str}\n",
    "                            dic_json_list.append(dic_json)\n",
    "                            page_title_list.append(page_title)\n",
    "    out_file = open(f'wikidata.json', \"w\", encoding='utf-8')\n",
    "    json.dump(dic_json_list,out_file,indent = 6)\n",
    "    out_file.close()\n",
    "    return page_title_list"
   ]
  },
  {
   "cell_type": "code",
   "execution_count": 6,
   "id": "fe1dfcf3-417e-483a-8f26-e61adf09609e",
   "metadata": {},
   "outputs": [
    {
     "name": "stderr",
     "output_type": "stream",
     "text": [
      "Retrieving 47 pages from wikidata:wikidata.\n",
      "Retrieving 50 pages from wikidata:wikidata.\n",
      "Retrieving 50 pages from wikidata:wikidata.\n",
      "Retrieving 50 pages from wikidata:wikidata.\n",
      "Retrieving 50 pages from wikidata:wikidata.\n",
      "Retrieving 50 pages from wikidata:wikidata.\n",
      "Retrieving 23 pages from wikidata:wikidata.\n"
     ]
    }
   ],
   "source": [
    "site = pywikibot.Site('wikidata', 'wikidata')\n",
    "\n",
    "wikidata_template_name = \"RFCSubpage\"\n",
    "\n",
    "wikidata_completedDiscussionProperty = \"closed\"\n",
    "\n",
    "wikidata_completedDiscussionPropertyValue = \"yes\"\n",
    "\n",
    "wikidata_tmpl_gen = list_template_usage(site, wikidata_template_name)\n",
    "\n",
    "wikidata_tmpl_usage = gather_template_usage(wikidata_tmpl_gen, wikidata_template_name, wikidata_completedDiscussionProperty, wikidata_completedDiscussionPropertyValue )"
   ]
  },
  {
   "cell_type": "code",
   "execution_count": null,
   "id": "4a5063d3-672e-44a6-bf67-e2e440a3e103",
   "metadata": {},
   "outputs": [],
   "source": [
    "print(len(wikidata_tmpl_usage))\n",
    "for x in range(10):\n",
    "    print(wikidata_tmpl_usage[x])"
   ]
  }
 ],
 "metadata": {
  "kernelspec": {
   "display_name": "Python 3 (ipykernel)",
   "language": "python",
   "name": "python3"
  },
  "language_info": {
   "codemirror_mode": {
    "name": "ipython",
    "version": 3
   },
   "file_extension": ".py",
   "mimetype": "text/x-python",
   "name": "python",
   "nbconvert_exporter": "python",
   "pygments_lexer": "ipython3",
   "version": "3.10.6"
  }
 },
 "nbformat": 4,
 "nbformat_minor": 5
}
